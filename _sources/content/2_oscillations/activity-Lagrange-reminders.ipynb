{
 "cells": [
  {
   "cell_type": "markdown",
   "metadata": {},
   "source": [
    "# 29 Sept 22 - Activity: Lagrangian Dynamics\n",
    "\n",
    "Motivation to be completed later...\n",
    "\n",
    "Here you will practice using the Lagrangian for increasingly complex systems. We start with the SHO and move forward from there.\n",
    "\n",
    "Using Lagrangian dnymaics can feel like magic. In fact, this is video of me from 2002 when I learned to use this approach:\n",
    "\n",
    "<img src=\"https://c.tenor.com/zcs5gYi4sSMAAAAC/mindblown-omg.gif\" alt=\"mind blown cat gif\" width=400px/>\n",
    "\n",
    "But we will step through the levels of complexity with these examples to make sure we all understand how to make use of them.\n",
    "\n",
    "<img src=\"https://i.imgflip.com/6v4j4k.jpg\" alt=\"Lagrange meme\" width=400px/>"
   ]
  },
  {
   "cell_type": "markdown",
   "metadata": {},
   "source": [
    "## Getting Started\n",
    "\n",
    "### Simple Harmonic Oscillator\n",
    "\n",
    "**&#9989; Do this** \n",
    "\n",
    "1. Starting with the 1d energy equations (for $x$ and $\\dot{x}$) for an SHO; derive the equations of motion. Did you get the sign right?\n",
    "\n",
    "## #Canonical Coupled Oscillators\n",
    "\n",
    "Let's assume you have a chain of two mass connected by springs (all the same $k$) as below.\n",
    "\n",
    "<img src='https://www.entropy.energy/static/resources/coupled-oscillators/two-coupled-gliders-diagram.png' alt='Coupled Oscillator set up. Two oscillators connected by three springs in a horizontal line.' width=800px/>\n",
    "\n",
    "**&#9989; Do this** \n",
    "\n",
    "1. Write down the energy equations for this system (using $x_1$ and $x_2$ for coordinates)\n",
    "2. Write the Lagrangian and derive the two equations of motion.\n",
    "3. Do all the signs makes sense to you?\n",
    "\n"
   ]
  },
  {
   "cell_type": "markdown",
   "metadata": {},
   "source": [
    "## Choose your coordinates\n",
    "\n",
    "### Coupled Pendulums\n",
    "\n",
    "Consider two vertical pendulums of length $l$ connected via their masses $M$ by a weak spring $k$. By weak, we mean that the spring constant is small. See below for a canonical setup:\n",
    "\n",
    "<img src=\"http://www.maths.surrey.ac.uk/explore/michaelspages/coupled/coupled_diag.jpg\" />\n",
    "\n",
    "**&#9989; Do this** \n",
    "\n",
    "1. Write down the energy equations for this system (think about your choices of coordinates)\n",
    "2. Write the Lagrangian and derive the two equations of motion (we want to know what is happening with both bobs)\n",
    "3. Compare your work to another group. Did they choose the same coordinates?\n"
   ]
  },
  {
   "cell_type": "markdown",
   "metadata": {},
   "source": [
    "## Adding Constraint Forces\n",
    "\n",
    "![Rubric](../../assets/images/cylindrical_cone_mass.jpg)\n",
    "\n",
    "\n",
    "Consider a particle of mass $m$ constrained to move on the interior surface of a upside down smooth ice cream cone (aligned with the vertical axis) with half-angle $\\alpha$ subject to a gravitational force downward, so that the cone axis and gravity are aligned.\n",
    "\n",
    "1. Using cylindrical coordinates (why?), write down the equation of constraint. Think about where the mass must be if it's stuck on a cone.\n",
    "2. Write the energy contributions in cylindrical coordinates. (This is where you put in the constraint!)\n",
    "3. Form the Lagrangian and find the equations of motion (there are two!)"
   ]
  },
  {
   "cell_type": "code",
   "execution_count": 1,
   "metadata": {},
   "outputs": [],
   "source": [
    "## your code here"
   ]
  },
  {
   "cell_type": "code",
   "execution_count": null,
   "metadata": {},
   "outputs": [],
   "source": []
  }
 ],
 "metadata": {
  "kernelspec": {
   "display_name": "Python 3.10.5 ('teaching')",
   "language": "python",
   "name": "python3"
  },
  "language_info": {
   "codemirror_mode": {
    "name": "ipython",
    "version": 3
   },
   "file_extension": ".py",
   "mimetype": "text/x-python",
   "name": "python",
   "nbconvert_exporter": "python",
   "pygments_lexer": "ipython3",
   "version": "3.10.5"
  },
  "orig_nbformat": 4,
  "vscode": {
   "interpreter": {
    "hash": "4cde1c9ed8a683d36136dc08e8027575d08b07893b804429583e933d2fe93b0b"
   }
  }
 },
 "nbformat": 4,
 "nbformat_minor": 2
}
