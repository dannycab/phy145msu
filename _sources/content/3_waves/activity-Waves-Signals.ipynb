{
 "cells": [
  {
   "cell_type": "markdown",
   "metadata": {},
   "source": [
    "# 01 Nov 2022 - Signal Deconstruction\n",
    "\n",
    "We have started to show that we can take waves of any periodicity and deconstruct them to understand their properties. We have only conceptually done so for more general $V(t)$'s. We are using $V(t)$ because everything is a voltage. But now we introduce the toolkit that can help us do this. \n",
    "\n",
    "For a given $V(t)$ with some base periodicity ($w_0$ or $T_0$), really the longest period or lowest frequency in the signal, we can use a Fourier Series to decompose those signals in terms of harmonics ($n\\;\\omega_0$) of the base frequency. The model of this decomposition is given by the [infinite series](https://en.wikipedia.org/wiki/Fourier_series#Sine-cosine_form):\n",
    "\n",
    "$f(t) = \\dfrac{a_0}{2} + \\sum_{n=1}^{\\infty} a_n \\cos(n\\omega_0t) + b_n \\sin(n\\omega_0t)$\n",
    "\n",
    "Or\n",
    "\n",
    "$f(t) = \\dfrac{a_0}{2} + \\sum_{n=1}^{\\infty} a_n \\cos\\left(\\dfrac{2n\\pi}{T_0}t\\right) + b_n \\sin\\left(\\dfrac{2n\\pi}{T_0}t\\right)$\n",
    "\n",
    "By using the [orthogonal nature](https://en.wikipedia.org/wiki/Orthogonal_functions) of $\\sin$ and $\\cos$ over one period, we can find the unknown coefficients for a given signal $V(t)$. \n",
    "\n",
    "## DC Offset\n",
    "\n",
    "The first term in the sum is just related to the DC offset, that is the average of the signal over one period. That's because $sin$ and $cos$ don't shift the average (they have a time average of zero, remember?)\n",
    "\n",
    "$\\dfrac{a_0}{2} = \\dfrac{1}{T_0}\\int_{T_0} f(t) dt$\n",
    "\n",
    "## Periodic Models\n",
    "\n",
    "For the periodicity, we use \"Fourier's Trick\" to determine the value of the coefficients. *Note that you need the signal $V(t)$ to complete this work.* And this isn't a trick, it's a well-established method.\n",
    "\n",
    "$a_n = \\dfrac{2}{T_0}\\int_{T_0}V(t)\\cos(n\\omega_0t)\\qquad n\\neq0$\n",
    "\n",
    "$b_n = \\dfrac{2}{T_0}\\int_{T_0}V(t)\\sin(n\\omega_0t)\\qquad n\\neq0$\n",
    "\n",
    "Given this, our approximate $V(t)$ is given up to the $N$ term is,\n",
    "\n",
    "$V(t) \\approx \\dfrac{a_0}{2} + \\sum_{n=1}^{N} a_n \\cos(n\\omega_0t) + b_n \\sin(n\\omega_0t)$"
   ]
  },
  {
   "cell_type": "markdown",
   "metadata": {},
   "source": [
    "## Example: The Duty Cycle\n",
    "\n",
    "There are many signals we could analyze, but one of the common (and more mathematically tractable) ones is the [Duty Cycle](https://en.wikipedia.org/wiki/Duty_cycle). In fact, this signal is in wide use across electrical devices for timed on and off states. Moreover, the behaviors of some neurons and muscle fibers have been shown to approximate duty cycle firing. Synthesizers and electronic music are similar heavy users of [pulse width modulation](https://en.wikipedia.org/wiki/Pulse-width_modulation), which stems from this signal.\n",
    "\n",
    "Below, we import a few libraries and plot the duty cycle."
   ]
  },
  {
   "cell_type": "code",
   "execution_count": 1,
   "metadata": {},
   "outputs": [],
   "source": [
    "import numpy as np\n",
    "import matplotlib.pyplot as plt\n",
    "import scipy.signal as sig\n",
    "%matplotlib inline"
   ]
  },
  {
   "cell_type": "code",
   "execution_count": 2,
   "metadata": {},
   "outputs": [
    {
     "data": {
      "image/png": "[encoded data removed]",
      "text/plain": [
       "<Figure size 576x432 with 1 Axes>"
      ]
     },
     "metadata": {
      "needs_background": "light"
     },
     "output_type": "display_data"
    }
   ],
   "source": [
    "## Setting up a few parameters\n",
    "\n",
    "V = 5       ## Max Voltage for the cycle\n",
    "T = 1       ## Period of the cycle\n",
    "N = 1000    ## Number of discrete points in model\n",
    "dt = T/N    ## Spacing in time between points\n",
    "\n",
    "## Create a time array\n",
    "t = np.linspace(0, T, N, endpoint=False)\n",
    "\n",
    "fig = plt.figure(figsize=(8,6))\n",
    "\n",
    "## Plot a 0V-5V duty cycle\n",
    "## We are using the signal library, which will also give \n",
    "## us access to FFT!\n",
    "squareWave = V/2-V/2*sig.square(2 * np.pi * t)\n",
    "\n",
    "plt.plot(t, squareWave)\n",
    "\n",
    "plt.xlabel('Time (e.g., s)')\n",
    "plt.ylabel('Signal (e.g., V)')\n",
    "plt.grid()"
   ]
  },
  {
   "cell_type": "markdown",
   "metadata": {},
   "source": [
    "### Analytical Approach\n",
    "\n",
    "Let's first approach this analysis using the analytical tools we have developed.\n",
    "\n",
    "[Handwritten Notes on Example](https://github.com/dannycab/phy415msu/blob/main/MMIPbook/assets/pdfs/notes/Notes_3_Fourier_Example.pdf)\n",
    "\n",
    "### Can we do this with more automaticity?\n",
    "\n",
    "Yes, we can use Python's `fft` method to help us do this analysis. However, this is a [Fast Fourier Transform](https://en.wikipedia.org/wiki/Fast_Fourier_transform), which we will discuss a bit more later. It is not the same as our Fourier Analysis above, as it uses discrete values, and has a finite windowing effects.\n",
    "\n",
    "**We will code this initially together**"
   ]
  },
  {
   "cell_type": "code",
   "execution_count": 3,
   "metadata": {},
   "outputs": [],
   "source": [
    "## your code here"
   ]
  },
  {
   "cell_type": "code",
   "execution_count": null,
   "metadata": {},
   "outputs": [],
   "source": []
  }
 ],
 "metadata": {
  "kernelspec": {
   "display_name": "Python 3.10.5 ('teaching')",
   "language": "python",
   "name": "python3"
  },
  "language_info": {
   "codemirror_mode": {
    "name": "ipython",
    "version": 3
   },
   "file_extension": ".py",
   "mimetype": "text/x-python",
   "name": "python",
   "nbconvert_exporter": "python",
   "pygments_lexer": "ipython3",
   "version": "3.10.5"
  },
  "orig_nbformat": 4,
  "vscode": {
   "interpreter": {
    "hash": "4cde1c9ed8a683d36136dc08e8027575d08b07893b804429583e933d2fe93b0b"
   }
  }
 },
 "nbformat": 4,
 "nbformat_minor": 2
}
