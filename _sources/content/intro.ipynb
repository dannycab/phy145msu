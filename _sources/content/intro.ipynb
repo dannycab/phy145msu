{
 "cells": [
  {
   "cell_type": "markdown",
   "metadata": {},
   "source": [
    "# Welcome to Mathematical Modeling in Physics\n",
    "\n",
    "PHY 415, called, \"Mathematical Methods for Physicists\" is a course the brings together many of the mathematical approaches that we commonly use in physics and apply them to variety of problems. In this course, we will take a modeling-based approach where we focus on the mathematical descriptions of physical phenomenon and determine what mathematical and analytical approaches are useful in exploring those models.\n",
    "\n"
   ]
  },
  {
   "cell_type": "markdown",
   "metadata": {},
   "source": [
    "`````{admonition} Updates\n",
    ":class: tip\n",
    "\n",
    "**28 Oct 2022**\n",
    "\n",
    "* We are starting FFT analysis this week, so the [reading focuses on introducing that idea and the code we use](./3_waves/readings-fft). **Use week 8 for the reading form**\n",
    "\n",
    "[ARCHIVE](./0_course/news_archive.md)\n",
    "\n",
    "`````"
   ]
  },
  {
   "cell_type": "markdown",
   "metadata": {},
   "source": [
    "To get a sense of the course, please read all the pages associated with our syllabus.\n",
    "\n",
    "## Learning Objectives\n",
    "\n",
    "In this course, you will learn to:\n",
    "\n",
    "* investigate physical systems using a variety of tools and approaches,\n",
    "* construct and document a reproducible process for those investigations,\n",
    "* use analytical, computational, and graphical approaches to answer specific questions in those investigations,\n",
    "* provide evidence of the quality of work using a variety of sources, and\n",
    "* collaborate effectively and contribute to a inclusive learning environment"
   ]
  }
 ],
 "metadata": {
  "kernelspec": {
   "display_name": "Python 3.10.5 ('teaching')",
   "language": "python",
   "name": "python3"
  },
  "language_info": {
   "codemirror_mode": {
    "name": "ipython",
    "version": 3
   },
   "file_extension": ".py",
   "mimetype": "text/x-python",
   "name": "python",
   "nbconvert_exporter": "python",
   "pygments_lexer": "ipython3",
   "version": "3.10.5"
  },
  "orig_nbformat": 4,
  "vscode": {
   "interpreter": {
    "hash": "4cde1c9ed8a683d36136dc08e8027575d08b07893b804429583e933d2fe93b0b"
   }
  }
 },
 "nbformat": 4,
 "nbformat_minor": 2
}
