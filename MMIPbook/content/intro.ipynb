{
 "cells": [
  {
   "cell_type": "markdown",
   "metadata": {},
   "source": [
    "# Welcome to Mathematical Modeling in Physics\n",
    "\n",
    "PHY 415, called, \"Mathematical Methods for Physicists\" is a course the brings together many of the mathematical approaches that we commonly use in physics and apply them to variety of problems. In this course, we will take a modeling-based approach where we focus on the mathematical descriptions of physical phenomenon and determine what mathematical and analytical approaches are useful in exploring those models.\n",
    "\n"
   ]
  },
  {
   "cell_type": "code",
   "execution_count": null,
   "metadata": {},
   "outputs": [],
   "source": []
  },
  {
   "cell_type": "markdown",
   "metadata": {},
   "source": [
    "`````{admonition} Updates\n",
    ":class: tip\n",
    "\n",
    "\n",
    "**06 Sept 22**\n",
    "- [Class notes](./2_oscillations/notes-SHO_and_dynamical_systems.md) have been posted along with some scans of book sections\n",
    "    - I will add the Phase Portrait notes tonight\n",
    "- A [preliminary rubric](./0_course/rubric.md) for the first project is posted. A detailed breakdown is coming before next class.\n",
    "\n",
    "**05 Sept 22**\n",
    "- Tuesday's [in-class activity](./2_oscillations/activity-SHO_and_dynamical_systems.ipynb) has been posted.\n",
    "    - Review as you see fit; we will go over the whole thing together\n",
    "\n",
    "**02 Sept 22**\n",
    "\n",
    "- [Complete the survey](https://www.when2meet.com/?16627934-Bt7PQ) by Tuesday morning to help us schedule the Project Help Sessions\n",
    "- Synthesized notes from 01 Sept 22 class are [posted](./1_modeling/notes-what_is_a_model.md)\n",
    "- Readings have been updated for next week: [Read Oscillations](./2_oscillations/readings-oscillators.ipynb)\n",
    "- Make sure to complete the [Reading Questions Form](./0_course/reading_questions.md) before class Tuesday morning\n",
    "- More project details are coming, a draft project rubric is forthcoming, and activities for class this coming week will be posted by Monday\n",
    "\n",
    "[News Archive](./0_course/news_archive.md)\n",
    "\n",
    "`````"
   ]
  },
  {
   "cell_type": "code",
   "execution_count": null,
   "metadata": {},
   "outputs": [],
   "source": []
  },
  {
   "cell_type": "markdown",
   "metadata": {},
   "source": [
    "To get a sense of the course, please read all the pages associated with our syllabus.\n",
    "\n",
    "## Learning Objectives\n",
    "\n",
    "In this course, you will learn to:\n",
    "\n",
    "* investigate physical systems using a variety of tools and approaches,\n",
    "* construct and document a reproducible process for those investigations,\n",
    "* use analytical, computational, and graphical approaches to answer specific questions in those investigations,\n",
    "* provide evidence of the quality of work using a variety of sources, and\n",
    "* collaborate effectively and contribute to a inclusive learning environment"
   ]
  }
 ],
 "metadata": {
  "kernelspec": {
   "display_name": "Python 3.10.5 ('teaching')",
   "language": "python",
   "name": "python3"
  },
  "language_info": {
   "codemirror_mode": {
    "name": "ipython",
    "version": 3
   },
   "file_extension": ".py",
   "mimetype": "text/x-python",
   "name": "python",
   "nbconvert_exporter": "python",
   "pygments_lexer": "ipython3",
   "version": "3.10.5"
  },
  "orig_nbformat": 4,
  "vscode": {
   "interpreter": {
    "hash": "4cde1c9ed8a683d36136dc08e8027575d08b07893b804429583e933d2fe93b0b"
   }
  }
 },
 "nbformat": 4,
 "nbformat_minor": 2
}
