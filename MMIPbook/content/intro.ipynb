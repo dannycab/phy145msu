{
 "cells": [
  {
   "cell_type": "markdown",
   "metadata": {},
   "source": [
    "# Welcome to Mathematical Modeling in Physics\n",
    "\n",
    "PHY 415, called, \"Mathematical Methods for Physicists\" is a course the brings together many of the mathematical approaches that we commonly use in physics and apply them to variety of problems. In this course, we will take a modeling-based approach where we focus on the mathematical descriptions of physical phenomenon and determine what mathematical and analytical approaches are useful in exploring those models.\n",
    "\n"
   ]
  },
  {
   "cell_type": "markdown",
   "metadata": {},
   "source": [
    "`````{admonition} Updates\n",
    ":class: tip\n",
    "\n",
    "**2 October 2022**\n",
    "\n",
    "* This week, we will finish up with [Lagrangian Analysis](2_oscillations/readings-lagrangian-dynamics) and shift back into how that analysis sets us up for modeling\n",
    "    * Here are direct links to my handwritten notes on [Coupled Oscillations](https://github.com/dannycab/phy415msu/blob/main/MMIPbook/assets/pdfs/notes/Notes_2_Coupled_Oscillations.pdf) and [Lagrangian Dynamics](https://github.com/dannycab/phy415msu/blob/main/MMIPbook/assets/pdfs/notes/Notes_2_Lagrangian_Dynamics.pdf).\n",
    "    * Peruse these notes, there's no reading this week since we are continuing with the same topic.\n",
    "    * Our goal this week is making sure you all feel comfortable setting up a Lagrangian and doing the analysis of it\n",
    "* [Project 2](0_course/projects/project2) is posted with minor details. We will discuss at the end of Tuesday's class what we think a good model is now.\n",
    "\n",
    "[ARCHIVE](./0_course/news_archive.md)\n",
    "\n",
    "`````"
   ]
  },
  {
   "cell_type": "markdown",
   "metadata": {},
   "source": [
    "To get a sense of the course, please read all the pages associated with our syllabus.\n",
    "\n",
    "## Learning Objectives\n",
    "\n",
    "In this course, you will learn to:\n",
    "\n",
    "* investigate physical systems using a variety of tools and approaches,\n",
    "* construct and document a reproducible process for those investigations,\n",
    "* use analytical, computational, and graphical approaches to answer specific questions in those investigations,\n",
    "* provide evidence of the quality of work using a variety of sources, and\n",
    "* collaborate effectively and contribute to a inclusive learning environment"
   ]
  }
 ],
 "metadata": {
  "kernelspec": {
   "display_name": "Python 3.10.5 ('teaching')",
   "language": "python",
   "name": "python3"
  },
  "language_info": {
   "codemirror_mode": {
    "name": "ipython",
    "version": 3
   },
   "file_extension": ".py",
   "mimetype": "text/x-python",
   "name": "python",
   "nbconvert_exporter": "python",
   "pygments_lexer": "ipython3",
   "version": "3.10.5"
  },
  "orig_nbformat": 4,
  "vscode": {
   "interpreter": {
    "hash": "4cde1c9ed8a683d36136dc08e8027575d08b07893b804429583e933d2fe93b0b"
   }
  }
 },
 "nbformat": 4,
 "nbformat_minor": 2
}
