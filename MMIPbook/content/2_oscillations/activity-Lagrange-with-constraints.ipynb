{
 "cells": [
  {
   "cell_type": "markdown",
   "metadata": {},
   "source": [
    "# Activity: Lagrangian Dynamics with Constraints\n",
    "\n",
    "One of the strengths of Lagrangian dynamics is that you do not have to have a mathematical description of the forces for all space and time. We can see that in this upside-down ice cream cone problem. How would you write the force of the cone for all space and time?\n",
    "\n",
    "*Answer:* :shrugs:\n",
    "\n",
    "![Rubric](../../assets/images/cylindrical_cone_mass.jpg)\n",
    "\n",
    "## Starting with Pencil and Paper Analytics\n",
    "\n",
    "Consider a particle of mass $m$ constrained to move on the interior surface of a upside down smooth ice cream cone (aligned with the vertical axis) with half-angle $\\alpha$ subject to a gravitational force downward, so that the cone axis and gravity are aligned.\n",
    "\n",
    "1. Using cylindrical coordinates (why?), write down the equation of constraint. Think about where the mass must be if it's stuck on a cone.\n",
    "2. Write the energy contributions in cylindrical coordinates. Do this in general first (use Cartesian and convert or start with cylindrical)\n",
    "3. Pop in the constraint equation. This reduces degrees of freedom (how do you see this?)\n",
    "3. Form the Lagrangian and find the equations of motion (there are two!)"
   ]
  },
  {
   "cell_type": "markdown",
   "metadata": {},
   "source": [
    "## Numerically analyze this system\n",
    "\n",
    "As a group, perform an analysis of this system (along the lines of what we have done in project 1). It is ok to split up tasks, but share the code and results!\n",
    "\n",
    "Try to:\n",
    "* Create a phase space diagram\n",
    "* Characterize different motion\n",
    "* Numerically integrate the system\n",
    "* **New to you:** Investigate the energy over time\n",
    "* **Challenging:** Investigate the z-component of the angular momentum over time"
   ]
  },
  {
   "cell_type": "code",
   "execution_count": 1,
   "metadata": {},
   "outputs": [],
   "source": [
    "## Your code here"
   ]
  },
  {
   "cell_type": "markdown",
   "metadata": {},
   "source": [
    "## Extend your analysis\n",
    "\n",
    "\n",
    "Now allow the bead to roll without slipping inside the cone. How does this change the energy? The equations of constraint?\n",
    "\n",
    "1. Write the energy equations for this new system.\n",
    "2. Write the equations of constraint for this system. "
   ]
  },
  {
   "cell_type": "markdown",
   "metadata": {},
   "source": []
  }
 ],
 "metadata": {
  "kernelspec": {
   "display_name": "Python 3.10.5 ('teaching')",
   "language": "python",
   "name": "python3"
  },
  "language_info": {
   "codemirror_mode": {
    "name": "ipython",
    "version": 3
   },
   "file_extension": ".py",
   "mimetype": "text/x-python",
   "name": "python",
   "nbconvert_exporter": "python",
   "pygments_lexer": "ipython3",
   "version": "3.10.5"
  },
  "orig_nbformat": 4,
  "vscode": {
   "interpreter": {
    "hash": "4cde1c9ed8a683d36136dc08e8027575d08b07893b804429583e933d2fe93b0b"
   }
  }
 },
 "nbformat": 4,
 "nbformat_minor": 2
}
