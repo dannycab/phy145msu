{
 "cells": [
  {
   "cell_type": "markdown",
   "metadata": {},
   "source": [
    "# Activity: Analyzing Lagrangian Dynamics with Constraints (Solution)\n",
    "\n",
    "One of the strengths of Lagrangian dynamics is that you do not have to have a mathematical description of the forces for all space and time. We can see that in this upside-down ice cream cone problem. How would you write the force of the cone for all space and time?\n",
    "\n",
    "*Answer:* :shrugs:\n",
    "\n",
    "![Rubric](../../assets/images/cylindrical_cone_mass.jpg)\n",
    "\n",
    "## Last time\n",
    "\n",
    "We used Lagrangian Analysis to produce the following differential equations:\n",
    "\n",
    "$$m\\ddot{r} = (mr^2\\dot{\\theta}-mg\\cot\\alpha)\\cos^2\\alpha$$\n",
    "\n",
    "$$\\dfrac{d}{dt}\\left(mr^2\\dot{\\theta}\\right) = 0$$\n",
    "\n",
    "We made a note that the second one tells about conservation of angular momentum in the $z$-direction.\n"
   ]
  },
  {
   "cell_type": "markdown",
   "metadata": {},
   "source": [
    "Let's write this a bit different, so we can integrate the situation:\n",
    "\n",
    "$$m\\ddot{r} = (mr^2\\dot{\\theta}-mg\\cot\\alpha)\\cos^2\\alpha$$\n",
    "\n",
    "$$2mr\\dot{r}\\dot{\\theta}+mr^2\\ddot{\\theta} = 0$$\n",
    "\n",
    "Now we need to write this as a set of first order differential equations. Let $v=\\dot{r}$ and $\\omega=\\dot{\\theta}$. Then we get the following four equations"
   ]
  },
  {
   "cell_type": "markdown",
   "metadata": {},
   "source": [
    "$$\\dot{v} = \\left(r^2\\omega-g\\cot\\alpha\\right)\\cos^2\\alpha$$\n",
    "\n",
    "$$\\dot{r} = v$$\n",
    "\n",
    "$$\\dot{\\omega} = -2\\dfrac{v\\omega}{r}$$\n",
    "\n",
    "$$\\dot{\\theta} = \\omega$$"
   ]
  },
  {
   "cell_type": "markdown",
   "metadata": {},
   "source": [
    "## Start your analysis\n",
    "\n",
    "Now we have four 1st order, coupled, nonlinear differential equations that describe the motion of this bead. We are going to solve for $r(t)$ and $\\theta(t)$ for a given choice of $\\alpha$. This will produce a solution for $z(t) = \\dfrac{r(t)}{\\tan\\alpha}$. We can investigate phase space, but you will have to look at slices of it and try to make sense of different projections. Let's start with the doing the following three tasks:\n",
    "\n",
    "We will construct phase space diagrams for $r$ and $\\theta$.\n",
    "\n",
    "1. You will have to use numpy.meshgrid for four variables. If you put in four variables, then you will get out ordered groups of the four variables.\n",
    "2. You need to define a function that returns the four changes of the four variables (remember we had to take the ordered pairs and then compute the arrows)\n",
    "3. Plot a 2d slice (e.g., $r$ vs $v$) "
   ]
  },
  {
   "cell_type": "code",
   "execution_count": 1,
   "metadata": {},
   "outputs": [],
   "source": [
    "## Your code here\n",
    "\n",
    "import numpy as np\n",
    "import matplotlib.pyplot as plt\n",
    "\n",
    "\n",
    "r = np.linspace(0.1,10,10)\n",
    "theta = np.linspace(0,2*np.pi,10)\n",
    "v = np.linspace(-10,10,10)\n",
    "omega = np.linspace(-10,10,10)"
   ]
  },
  {
   "cell_type": "code",
   "execution_count": 38,
   "metadata": {},
   "outputs": [],
   "source": [
    "R, V, THETA, OMEGA = np.meshgrid(r,v,theta,omega) \n",
    "\n",
    "def Deriv(R, V, THETA, OMEGA, alpha=np.pi/3):\n",
    "    \n",
    "    g=9.8\n",
    "\n",
    "    RDOT, VDOT, THETADOT, OMEGADOT = [V, (R**2*OMEGA-g/np.tan(alpha))*np.cos(alpha)**2, OMEGA, -2*V*OMEGA/R]\n",
    "    \n",
    "    return VDOT, RDOT, THETADOT, OMEGADOT\n",
    "\n",
    "\n",
    "def ComputeBeadPhase(R, V, THETA, OMEGA, alpha=np.pi/3):\n",
    "\n",
    "    \n",
    "    ## Prep the arrays with zeros at the right size\n",
    "    rdot, vdot, thetadot, omegadot = np.zeros(R.shape), np.zeros(V.shape), np.zeros(THETA.shape), np.zeros(OMEGA.shape)\n",
    "\n",
    "    ## Set the limits of the loop based on how \n",
    "    ## many points in the arrays we have\n",
    "    rlim = R.shape[0]\n",
    "    vlim = R.shape[0]\n",
    "    thetalim = R.shape[0]\n",
    "    omegalim = R.shape[0]\n",
    "    \n",
    "    ## Calculate the changes at each location and add them to the arrays\n",
    "    for i in range(rlim):\n",
    "        for j in range(vlim):\n",
    "            for k in range(thetalim):\n",
    "                for l in range(omegalim):\n",
    "                    rloc = R[i,j,k,l]\n",
    "                    vloc = V[i,j,k,l]\n",
    "                    thetaloc = THETA[i,j,k,l]\n",
    "                    omegaloc = OMEGA[i,j,k,l]\n",
    "                    rdot[i,j,k,l], vdot[i,j,k,l], thetadot[i,j,k,l], omegadot[i,j,k,l] = Deriv(rloc, vloc, thetaloc, omegaloc)\n",
    "            \n",
    "    return rdot, vdot, thetadot, omegadot"
   ]
  },
  {
   "cell_type": "code",
   "execution_count": 39,
   "metadata": {},
   "outputs": [],
   "source": [
    "rdot, vdot, thetadot, omegadot = ComputeBeadPhase(R,V,THETA,OMEGA)"
   ]
  },
  {
   "cell_type": "code",
   "execution_count": 46,
   "metadata": {},
   "outputs": [
    {
     "data": {
      "text/plain": [
       "array([[1.2, 1.2, 1.2, 1.2, 1.2, 1.2, 1.2, 1.2, 1.2, 1.2],\n",
       "       [1.2, 1.2, 1.2, 1.2, 1.2, 1.2, 1.2, 1.2, 1.2, 1.2],\n",
       "       [1.2, 1.2, 1.2, 1.2, 1.2, 1.2, 1.2, 1.2, 1.2, 1.2],\n",
       "       [1.2, 1.2, 1.2, 1.2, 1.2, 1.2, 1.2, 1.2, 1.2, 1.2],\n",
       "       [1.2, 1.2, 1.2, 1.2, 1.2, 1.2, 1.2, 1.2, 1.2, 1.2],\n",
       "       [1.2, 1.2, 1.2, 1.2, 1.2, 1.2, 1.2, 1.2, 1.2, 1.2],\n",
       "       [1.2, 1.2, 1.2, 1.2, 1.2, 1.2, 1.2, 1.2, 1.2, 1.2],\n",
       "       [1.2, 1.2, 1.2, 1.2, 1.2, 1.2, 1.2, 1.2, 1.2, 1.2],\n",
       "       [1.2, 1.2, 1.2, 1.2, 1.2, 1.2, 1.2, 1.2, 1.2, 1.2],\n",
       "       [1.2, 1.2, 1.2, 1.2, 1.2, 1.2, 1.2, 1.2, 1.2, 1.2]])"
      ]
     },
     "execution_count": 46,
     "metadata": {},
     "output_type": "execute_result"
    }
   ],
   "source": [
    "R[0,1,:,:]"
   ]
  },
  {
   "cell_type": "markdown",
   "metadata": {},
   "source": [
    "## Numerically Integrate our EOM\n",
    "\n",
    "Ok, now that you have looked at the phase space as discuss possible motion that could occur. Let's pick some initial conditions and build a numerical model. \n",
    "\n",
    "Using the integrator of your choice, numerically integrate and plot (in 3d) the motion of the bead for the following conditions:\n",
    "\n",
    "1. Bead starts from rest and is let go\n",
    "2. Bead starts at a given height and is given a low speed (less than needed to orbit)\n",
    "3. Bead starts at a given height and is given a low speed (more than needed to orbit)\n",
    "4. Can you find a flat horizontal orbit?"
   ]
  },
  {
   "cell_type": "code",
   "execution_count": 28,
   "metadata": {},
   "outputs": [
    {
     "data": {
      "text/plain": [
       "100"
      ]
     },
     "execution_count": 28,
     "metadata": {},
     "output_type": "execute_result"
    }
   ],
   "source": [
    "R.shape[1]"
   ]
  },
  {
   "cell_type": "code",
   "execution_count": null,
   "metadata": {},
   "outputs": [],
   "source": []
  }
 ],
 "metadata": {
  "kernelspec": {
   "display_name": "Python 3.10.5 ('teaching')",
   "language": "python",
   "name": "python3"
  },
  "language_info": {
   "codemirror_mode": {
    "name": "ipython",
    "version": 3
   },
   "file_extension": ".py",
   "mimetype": "text/x-python",
   "name": "python",
   "nbconvert_exporter": "python",
   "pygments_lexer": "ipython3",
   "version": "3.10.5"
  },
  "orig_nbformat": 4,
  "vscode": {
   "interpreter": {
    "hash": "4cde1c9ed8a683d36136dc08e8027575d08b07893b804429583e933d2fe93b0b"
   }
  }
 },
 "nbformat": 4,
 "nbformat_minor": 2
}
