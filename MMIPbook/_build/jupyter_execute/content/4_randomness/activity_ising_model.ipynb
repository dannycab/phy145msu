{
 "cells": [
  {
   "attachments": {},
   "cell_type": "markdown",
   "metadata": {},
   "source": [
    "# 8 Dec 2022 - The Ising Model\n",
    "\n",
    "$$E = -J\\left(\\vec{S}_i\\cdot\\vec{S}_j\\right)$$"
   ]
  },
  {
   "cell_type": "code",
   "execution_count": 1,
   "metadata": {},
   "outputs": [],
   "source": [
    "import numpy as np\n",
    "import matplotlib.pyplot as plt\n",
    "import random as random"
   ]
  },
  {
   "cell_type": "code",
   "execution_count": 2,
   "metadata": {},
   "outputs": [
    {
     "ename": "NameError",
     "evalue": "name 'totalInteractionEnergyamek' is not defined",
     "output_type": "error",
     "traceback": [
      "\u001b[0;31m---------------------------------------------------------------------------\u001b[0m",
      "\u001b[0;31mNameError\u001b[0m                                 Traceback (most recent call last)",
      "Input \u001b[0;32mIn [2]\u001b[0m, in \u001b[0;36m<cell line: 29>\u001b[0;34m()\u001b[0m\n\u001b[1;32m     26\u001b[0m             spinArray[row,column] \u001b[38;5;241m=\u001b[39m \u001b[38;5;241m-\u001b[39m\u001b[38;5;241m1\u001b[39m\n\u001b[1;32m     28\u001b[0m \u001b[38;5;66;03m# Calculate the initial energy and magnetization        \u001b[39;00m\n\u001b[0;32m---> 29\u001b[0m energyAtStep \u001b[38;5;241m=\u001b[39m \u001b[43mcalculateEnergy\u001b[49m\u001b[43m(\u001b[49m\u001b[43mspinArray\u001b[49m\u001b[43m)\u001b[49m\n\u001b[1;32m     30\u001b[0m magnetizationAtStep \u001b[38;5;241m=\u001b[39m np\u001b[38;5;241m.\u001b[39msum(spinArray)\n\u001b[1;32m     32\u001b[0m \u001b[38;5;66;03m## Show the spin array \u001b[39;00m\n\u001b[1;32m     33\u001b[0m \u001b[38;5;66;03m## Black is spin up and white is spin down\u001b[39;00m\n",
      "Input \u001b[0;32mIn [2]\u001b[0m, in \u001b[0;36mcalculateEnergy\u001b[0;34m(spinArray)\u001b[0m\n\u001b[1;32m     11\u001b[0m columnNeighborInteractionEnergy \u001b[38;5;241m=\u001b[39m np\u001b[38;5;241m.\u001b[39msum(spinArray[:,\u001b[38;5;241m0\u001b[39m:cellLength\u001b[38;5;241m-\u001b[39m\u001b[38;5;241m1\u001b[39m]\u001b[38;5;241m*\u001b[39mspinArray[:,\u001b[38;5;241m1\u001b[39m:cellLength])\n\u001b[1;32m     13\u001b[0m totalInteractionEnergy \u001b[38;5;241m=\u001b[39m rowNeighborInteractionEnergy\u001b[38;5;241m+\u001b[39mcolumnNeighborInteractionEnergy\n\u001b[0;32m---> 15\u001b[0m \u001b[38;5;28;01mreturn\u001b[39;00m \u001b[38;5;241m-\u001b[39mcouplingConstant\u001b[38;5;241m*\u001b[39m\u001b[43mtotalInteractionEnergyamek\u001b[49m\n",
      "\u001b[0;31mNameError\u001b[0m: name 'totalInteractionEnergyamek' is not defined"
     ]
    }
   ],
   "source": [
    "cellLength = 20\n",
    "simulationSteps = 100000\n",
    "couplingConstant = 1.0 ## J\n",
    "temperature = 2.0\n",
    "\n",
    "def calculateEnergy(spinArray):\n",
    "    '''Calculate all the pairwise energy interactions and sum them up\n",
    "    Do rows and columns separately and add them up.'''\n",
    "    \n",
    "    rowNeighborInteractionEnergy = np.sum(spinArray[0:cellLength-1,:]*spinArray[1:cellLength,:])\n",
    "    columnNeighborInteractionEnergy = np.sum(spinArray[:,0:cellLength-1]*spinArray[:,1:cellLength])\n",
    "    \n",
    "    totalInteractionEnergy = rowNeighborInteractionEnergy+columnNeighborInteractionEnergy\n",
    "    \n",
    "    return -couplingConstant*totalInteractionEnergyamek\n",
    "\n",
    "## Create an empty square array\n",
    "spinArray = np.empty([cellLength,cellLength], int)\n",
    "\n",
    "## Populate it with random spins\n",
    "for row in range(cellLength):\n",
    "    for column in range(cellLength):\n",
    "        if random.random()<0.5:\n",
    "            spinArray[row,column] = +1\n",
    "        else:\n",
    "            spinArray[row,column] = -1\n",
    "\n",
    "# Calculate the initial energy and magnetization        \n",
    "energyAtStep = calculateEnergy(spinArray)\n",
    "magnetizationAtStep = np.sum(spinArray)\n",
    "\n",
    "## Show the spin array \n",
    "## Black is spin up and white is spin down\n",
    "plt.figure(figsize=(8,8))\n",
    "c = plt.pcolor(spinArray, cmap='Greys')\n",
    "plt.axis('square')"
   ]
  },
  {
   "cell_type": "code",
   "execution_count": 31,
   "metadata": {},
   "outputs": [],
   "source": [
    "## Hold onto the values of the magnetization \n",
    "## for each step in the simulation\n",
    "magnetizationArray = np.zeros(simulationSteps)\n",
    "\n",
    "## Monte Carlo Loop\n",
    "for step in range(simulationSteps):\n",
    "    \n",
    "    ## Store the magnetization at this step\n",
    "    \n",
    "    ## Store the energy before swapping the spin randomly\n",
    "    \n",
    "    ## Select a spin from the cell\n",
    "    \n",
    "    ## Flip the spin of that one site\n",
    "    \n",
    "    ## Calculate the energy after that change\n",
    "    ## Calculate the change in energy \n",
    "    \n",
    "    \n",
    "    ## If the change resulted in an increase in the total energy,\n",
    "    ## evaluate whether to accept the value or not\n",
    "    if deltaE > 0.0:\n",
    "        \n",
    "        probabilityOfFlip = np.exp(-deltaE/temperature)\n",
    "        \n",
    "        ## If the the random value is lower than the probability,\n",
    "        ## reverse the change to the spin, and recalculate the energy\n",
    "        if random.random()>probabilityOfFlip:\n",
    "            \n",
    "            continue\n",
    "        \n",
    "    ## Sum up the magnetization at that step    \n",
    "    "
   ]
  },
  {
   "cell_type": "code",
   "execution_count": null,
   "metadata": {},
   "outputs": [],
   "source": []
  }
 ],
 "metadata": {
  "kernelspec": {
   "display_name": "Python 3.10.5 ('teaching')",
   "language": "python",
   "name": "python3"
  },
  "language_info": {
   "codemirror_mode": {
    "name": "ipython",
    "version": 3
   },
   "file_extension": ".py",
   "mimetype": "text/x-python",
   "name": "python",
   "nbconvert_exporter": "python",
   "pygments_lexer": "ipython3",
   "version": "3.10.5"
  },
  "vscode": {
   "interpreter": {
    "hash": "4cde1c9ed8a683d36136dc08e8027575d08b07893b804429583e933d2fe93b0b"
   }
  }
 },
 "nbformat": 4,
 "nbformat_minor": 2
}