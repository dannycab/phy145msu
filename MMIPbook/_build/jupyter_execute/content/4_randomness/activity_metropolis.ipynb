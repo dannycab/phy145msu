{
 "cells": [
  {
   "cell_type": "markdown",
   "metadata": {},
   "source": [
    "# 6 Dec 2022 - Modeling the Ideal Gas\n",
    "\n",
    "As we developed from [lecture](https://github.com/dannycab/phy415msu/blob/main/MMIPbook/assets/pdfs/notes/Notes_4_Markov_Chain.pdf), we can sample the Boltzmann distribution by constructing a sample of it through a Markov Chain and computing the value of the quantity of interest and adding it up.\n",
    "\n",
    "$$\\sum_{chain} X_i \\approx \\langle X \\rangle$$\n",
    "\n",
    "## One Dimensional Gas\n",
    "\n",
    "We will model an ideal gas, but let's start with a one-dimensional gas made of a bunch of particles in infinite square wells. The energy spectrum for a particle of mass $m$ in an infinite square well of length $L$ is given by:\n",
    "\n",
    "$$E(n) = \\dfrac{\\pi^2 \\hbar^2}{2mL^2}n^2$$\n",
    "\n",
    "We can simplify things by choosing $\\hbar$, $\\pi$, $L$, and $m$ = 1. So that our energy is more simply written as:\n",
    "\n",
    "$$E(n) = \\dfrac{n^2}{2}$$\n",
    "\n",
    "Our analysis relies on computing the change in energy in making one quantum step $n \\pm 1$ and determining if we keep the step or not based on the thermodynamic probability:\n",
    "\n",
    "$$P = \\exp(-\\dfrac{\\Delta E}{kT})$$\n",
    "\n",
    "We take $k=1$, so that:\n",
    "\n",
    "$$P = e^{-\\Delta E/T}$$\n",
    "\n",
    "The change in energy as a result of moving the state up or down is given by:\n",
    "\n",
    "$$\\Delta E_{down} = E(n-1) - E(n) = \\dfrac{1}{2}\\left((n-1)^2-n^2\\right) = \\dfrac{-2n+1}{2}$$\n",
    "\n",
    "$$\\Delta E_{up} = E(n+1) - E(n) = \\dfrac{1}{2}\\left((n+1)^2-n^2\\right) = \\dfrac{2n+1}{2}$$\n"
   ]
  },
  {
   "cell_type": "markdown",
   "metadata": {},
   "source": [
    "## Implementation\n",
    "\n",
    "Below is the code that develops a model of a one dimensional gas. It is annotated. Review the code and make note of each piece of the algorithm.\n",
    "\n",
    "**Complete the following**\n",
    "\n",
    "1. Run the simulation for a variety of temperatures. What do you notice?\n",
    "2. Run the simulation for the same temperature and establish the average energy and uncertainty. Compare to the expected value.\n",
    "3. Plot the histogram of final states. How does this look like a good sampling distribution?"
   ]
  },
  {
   "cell_type": "code",
   "execution_count": 1,
   "metadata": {},
   "outputs": [],
   "source": [
    "import random as random\n",
    "import numpy as np\n",
    "import matplotlib.pyplot as plt\n",
    "%matplotlib inline"
   ]
  },
  {
   "cell_type": "code",
   "execution_count": 2,
   "metadata": {},
   "outputs": [],
   "source": [
    "temperature = 10\n",
    "numberOfAtoms = 1000\n",
    "simulationSteps = 500000\n",
    "\n",
    "quantumNumberArray = np.ones([numberOfAtoms,1], int)\n",
    "\n",
    "energyAtEachStep = np.zeros([simulationSteps,1], float)\n",
    "\n",
    "## Each atom starts in n=1 and\n",
    "## Contributes 1/2 unit of energy (hbar, pi, m, L = 1)\n",
    "E = numberOfAtoms/2\n",
    "\n",
    "## Monte Carlo Loop\n",
    "for step in range(simulationSteps):\n",
    "    \n",
    "    # Choose atom and the move\n",
    "    ithAtom = random.randrange(numberOfAtoms)\n",
    "    \n",
    "    # Randomly select the next energy state +1 or -1\n",
    "    if random.random() < 0.5:    \n",
    "        \n",
    "        changeInState = 1\n",
    "        changeInEnergy = (0.5)*(2*quantumNumberArray[ithAtom]+1)\n",
    "    else:\n",
    "        \n",
    "        changeInState = -1\n",
    "        changeInEnergy = (0.5)*(-2*quantumNumberArray[ithAtom]+1)\n",
    "        \n",
    "    # Decide to accept with thermodynamic probability\n",
    "    if quantumNumberArray[ithAtom] > 1 or changeInState == 1:\n",
    "        \n",
    "        thermodynamicProbability = np.exp(-changeInEnergy/temperature)\n",
    "        \n",
    "        if random.random() < thermodynamicProbability:\n",
    "            \n",
    "            quantumNumberArray[ithAtom] += changeInState\n",
    "            E += changeInEnergy\n",
    "    \n",
    "    energyAtEachStep[step] = E"
   ]
  },
  {
   "cell_type": "code",
   "execution_count": 3,
   "metadata": {},
   "outputs": [
    {
     "data": {
      "text/plain": [
       "<matplotlib.legend.Legend at 0x115319c00>"
      ]
     },
     "execution_count": 3,
     "metadata": {},
     "output_type": "execute_result"
    },
    {
     "data": {
      "image/png": "[encoded data removed]",
      "text/plain": [
       "<Figure size 576x432 with 1 Axes>"
      ]
     },
     "metadata": {
      "filenames": {
       "image/png": "/Users/caballero/Repos/teaching/phy415msu/MMIPbook/_build/jupyter_execute/content/4_randomness/activity_metropolis_4_1.png"
      },
      "needs_background": "light"
     },
     "output_type": "display_data"
    }
   ],
   "source": [
    "plt.figure(figsize=(8,6))\n",
    "plt.plot(energyAtEachStep, label = 'Simulated Energy')\n",
    "plt.hlines(numberOfAtoms*temperature/2+numberOfAtoms/2, 0, simulationSteps, 'r', label='Equipartition Theorem + Ground State Energy')\n",
    "\n",
    "plt.ylabel('Energy')\n",
    "plt.xlabel('Steps')\n",
    "\n",
    "plt.grid()\n",
    "plt.legend()"
   ]
  },
  {
   "cell_type": "markdown",
   "metadata": {},
   "source": [
    "## The Ideal Gas\n",
    "\n",
    "The code above can be used for an ideal gas. There are some changes you have to make because an ideal gas in three dimensions has an energy spectrum like this:\n",
    "\n",
    "$$E(n_x,n_y,n_z) = \\dfrac{\\pi^2\\hbar^2}{2mL^2}\\left(n_x^2+n_y^2+n_z^2\\right)$$\n",
    "\n",
    "**Do this**\n",
    "\n",
    "1. Using the same approach (changing just one quantum number), find the value for $\\Delta E$ in general.\n",
    "2. Sketch out how the code will need to change to accommodate three dimensions (Discuss with each other and Danny)\n",
    "3. Implement those changes to calculate the energy of a 3D ideal gas."
   ]
  },
  {
   "cell_type": "code",
   "execution_count": 4,
   "metadata": {},
   "outputs": [],
   "source": [
    "## your code here"
   ]
  },
  {
   "cell_type": "code",
   "execution_count": null,
   "metadata": {},
   "outputs": [],
   "source": []
  }
 ],
 "metadata": {
  "kernelspec": {
   "display_name": "Python 3.10.5 ('teaching')",
   "language": "python",
   "name": "python3"
  },
  "language_info": {
   "codemirror_mode": {
    "name": "ipython",
    "version": 3
   },
   "file_extension": ".py",
   "mimetype": "text/x-python",
   "name": "python",
   "nbconvert_exporter": "python",
   "pygments_lexer": "ipython3",
   "version": "3.10.5"
  },
  "vscode": {
   "interpreter": {
    "hash": "4cde1c9ed8a683d36136dc08e8027575d08b07893b804429583e933d2fe93b0b"
   }
  }
 },
 "nbformat": 4,
 "nbformat_minor": 2
}