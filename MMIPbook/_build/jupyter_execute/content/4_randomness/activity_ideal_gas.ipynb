{
 "cells": [
  {
   "cell_type": "markdown",
   "metadata": {},
   "source": [
    "# 22 Nov 2022 - Modeling an Ideal Gas\n",
    "\n",
    "As we discovered, we can obtain some information about the ideal gas by considering it using energy states and the tools of statistical mechanics. Instead, what if we tried to build this from ground up. Below is a link to a 3D program that models the motion of a particle in a box.\n",
    "\n",
    "[Link to Program](https://glowscript.org/#/user/danny/folder/Shared/program/bouncing-ball)"
   ]
  },
  {
   "cell_type": "markdown",
   "metadata": {},
   "source": [
    "You can copy this program into your own glowscript account (create one with a Google account). \n",
    "\n",
    "1. Add more gas particles.\n",
    "2. Add random speeds and locations to those particles.\n",
    "3. Calculate the temperature using the equipartition theorem and plot it."
   ]
  },
  {
   "cell_type": "markdown",
   "metadata": {},
   "source": []
  },
  {
   "cell_type": "markdown",
   "metadata": {},
   "source": []
  }
 ],
 "metadata": {
  "kernelspec": {
   "display_name": "Python 3.10.5 ('teaching')",
   "language": "python",
   "name": "python3"
  },
  "language_info": {
   "codemirror_mode": {
    "name": "ipython",
    "version": 3
   },
   "file_extension": ".py",
   "mimetype": "text/x-python",
   "name": "python",
   "nbconvert_exporter": "python",
   "pygments_lexer": "ipython3",
   "version": "3.10.5"
  },
  "vscode": {
   "interpreter": {
    "hash": "4cde1c9ed8a683d36136dc08e8027575d08b07893b804429583e933d2fe93b0b"
   }
  }
 },
 "nbformat": 4,
 "nbformat_minor": 2
}