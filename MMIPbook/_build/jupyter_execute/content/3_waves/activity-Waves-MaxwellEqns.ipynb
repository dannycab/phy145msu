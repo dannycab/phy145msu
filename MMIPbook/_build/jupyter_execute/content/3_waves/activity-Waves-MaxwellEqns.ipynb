{
 "cells": [
  {
   "cell_type": "markdown",
   "metadata": {},
   "source": [
    "# 18 Oct 2022 - Introduction to Waves\n",
    "\n",
    "As we have built up an analysis of 1D SHOs that started to show complex motion. That is, as we added more and more oscillators, more \"kinds\" of motion became possible. We saw that in the increasing number and complexity of the normal modes. But what happens at the limit of infinitely many, small oscillators - like a continuously flexible object - a rope or string, for example. \n",
    "\n",
    "Here, enters a new model. One that has existed for a long time and was used widely in the 19th century to develop one of our most complete theories of physics to date: [Classical Electrodynamics](https://en.wikipedia.org/wiki/Maxwell%27s_equations). We will begin our work with a reminder of these equations and their uses, and then derive the wave equation from them, and characterize solutions to it."
   ]
  },
  {
   "cell_type": "markdown",
   "metadata": {},
   "source": [
    "## Reminders of Maxwell's Equations\n",
    "\n",
    "My E&M professor in undergrad, Richard Hazeltine, told us that every physicist should be able to recite Maxwell's equations in their sleep. I don't know what Richard was doing in his sleep, but I tend to actually sleep not recite equations. But in any event, here they are in differential and integral form for a vacuum:\n",
    "\n",
    "### Differential Form (Vacuum)\n",
    "\n",
    "#### Gauss's Law\n",
    "\n",
    "$$\\nabla \\cdot \\mathbf{E} = \\dfrac{\\rho}{\\varepsilon_0}$$\n",
    "\n",
    "#### Faraday's Law\n",
    "\n",
    "$$\\nabla \\times \\mathbf{E} = -\\dfrac{d\\mathbf{B}}{dt}$$\n",
    "\n",
    "#### No Specific Name (\"Gauss's Law for Magnetism\"; No Magnetic Monopoles)\n",
    "\n",
    "$$\\nabla \\cdot \\mathbf{B}  = 0$$\n",
    "\n",
    "#### Ampere's Law (with the Maxwell Correction)\n",
    "\n",
    "$$\\nabla \\times \\mathbf{B} = \\mu_0 \\mathbf{J} + \\varepsilon_0 \\mu_0 \\dfrac{d\\mathbf{E}}{dt}$$\n",
    "\n",
    "### Integral Form (Vacuum)\n",
    "\n",
    "#### Gauss's Law\n",
    "\n",
    "$$\\iint \\mathbf{E} \\cdot d\\mathbf{A} = \\iiint \\dfrac{\\rho}{\\varepsilon_0} dV$$\n",
    "\n",
    "#### Faraday's Law\n",
    "\n",
    "$$\\oint \\mathbf{E} \\cdot d\\mathbf{l} = -\\iint \\dfrac{d\\mathbf{B}}{dt} \\cdot d\\mathbf{A}$$\n",
    "\n",
    "#### No Specific Name (\"Gauss's Law for Magnetism\"; No Magnetic Monopoles)\n",
    "\n",
    "$$\\iint \\mathbf{B} \\cdot d\\mathbf{A} = 0$$\n",
    "\n",
    "#### Ampere's Law (with the Maxwell Correction)\n",
    "\n",
    "$$\\oint \\mathbf{B}\\cdot d\\mathbf{l} = \\iint \\left(\\mu_0 \\mathbf{J}  + \\varepsilon_0 \\mu_0 \\dfrac{d\\mathbf{E}}{dt}\\right) \\cdot d\\mathbf{A}$$"
   ]
  },
  {
   "cell_type": "markdown",
   "metadata": {},
   "source": [
    "## Static/Steady Situations\n",
    "\n",
    "Consider two situations that you have likely seen in the past. \n",
    "\n",
    "1. The charges are static, glued to the outside surface of a solid tube (radius, $R$) that is very long ($L>>R$). Using Gauss's Law, find the electric field inside and outside the tube if a total amount $Q$ is glued uniformly around that tube.\n",
    "2. Change the tube to a metal, that has a total charge $Q$ distributed throughout it's volume. The charges move steadily along the tube with a drift speed $v_d$ such that they produce a steady current density: $\\mathbf{J}(\\mathbf{r},t) = \\mathbf{J}(\\mathbf{r})$. Using Ampere's Law, find the magnetic field inside and outside the tube. _Recall the definition of a volume current density as the charge that passes a slice of the tube per unit time per unit area._"
   ]
  },
  {
   "cell_type": "markdown",
   "metadata": {},
   "source": [
    "## What happens if there's no sources?\n",
    "\n",
    "$$\\nabla \\cdot \\mathbf{E} = 0$$\n",
    "\n",
    "$$\\nabla \\times \\mathbf{E} = -\\dfrac{d\\mathbf{B}}{dt}$$\n",
    "\n",
    "$$\\nabla \\cdot \\mathbf{B}  = 0$$\n",
    "\n",
    "$$\\nabla \\times \\mathbf{B} =  \\varepsilon_0 \\mu_0 \\dfrac{d\\mathbf{E}}{dt}$$"
   ]
  },
  {
   "cell_type": "markdown",
   "metadata": {},
   "source": []
  }
 ],
 "metadata": {
  "kernelspec": {
   "display_name": "Python 3.10.5 ('teaching')",
   "language": "python",
   "name": "python3"
  },
  "language_info": {
   "codemirror_mode": {
    "name": "ipython",
    "version": 3
   },
   "file_extension": ".py",
   "mimetype": "text/x-python",
   "name": "python",
   "nbconvert_exporter": "python",
   "pygments_lexer": "ipython3",
   "version": "3.10.5"
  },
  "vscode": {
   "interpreter": {
    "hash": "4cde1c9ed8a683d36136dc08e8027575d08b07893b804429583e933d2fe93b0b"
   }
  }
 },
 "nbformat": 4,
 "nbformat_minor": 2
}