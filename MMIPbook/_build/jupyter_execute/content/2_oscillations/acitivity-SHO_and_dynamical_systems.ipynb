{
 "cells": [
  {
   "cell_type": "markdown",
   "metadata": {},
   "source": [
    "# Outline\n",
    "\n",
    "- Introduce SHO model and ansatz\n",
    "    - Activity (Familiar Idea): \n",
    "        - Show the ansatz works\n",
    "        - Solve two particular cases (and compare)\n",
    "        - What do you know about this solution and implications?\n",
    "            - Where does that knowledge come from?\n",
    "            - Can you make visualizations of that knowledge?\n",
    "    - Activity (New Idea)\n",
    "        - Introduce phase space (family of solutions)\n",
    "            - Example: constant force; drag in 1d\n",
    "            - Focus on technical aspects and interpretation\n",
    "            - Give chance to play (adjust parameters)\n",
    "        - Do harmonic oscillator yourself\n",
    "            - Build map\n",
    "            - Explain\n",
    "            - Play\n",
    "            - Extend (add drag?)"
   ]
  },
  {
   "cell_type": "markdown",
   "metadata": {},
   "source": [
    "We have seen for the canonical one-dimensional harmonic oscillator is described by the following **2nd order linear** differential equation:\n",
    "\n",
    "$$m\\ddot{s} = -k{s}$$\n",
    "\n",
    "where $s$ represents the distance from the oscillators equilibrium position. It's important to note that this model for a linear restoring force gives rise to at **second order** differential equation. As you will see, there would be no ability for cycles or recurrent behavior without two dimensions (the two dimensions here are the position, $s$, and velocity of the oscillator, $\\dot{s}$). It is also important that the differential equation is **linear**.\n",
    "\n",
    "## Linearity of differential equations\n",
    "\n",
    "This is something that is easy to confuse because we use the term **linear** in different ways at different times. In many cases this prompts us to think of a line, so that we might think the only linear differential equations are ones where the variable of interest (in this case the position of the oscillator) appears only *linearly* in the equation. So you might think:\n",
    "\n",
    "```admonition\n",
    "Nth order differential equations of the form:\n",
    "$$\\dfrac{d^n x}{dt^n} == c\\;x$$\n",
    "are the only ones that are linear. Note for the harmonic oscillator $n=2$.\n",
    "```"
   ]
  }
 ],
 "metadata": {
  "celltoolbar": "Edit Metadata",
  "kernelspec": {
   "display_name": "Python 3.10.5 ('teaching')",
   "language": "python",
   "name": "python3"
  },
  "language_info": {
   "codemirror_mode": {
    "name": "ipython",
    "version": 3
   },
   "file_extension": ".py",
   "mimetype": "text/x-python",
   "name": "python",
   "nbconvert_exporter": "python",
   "pygments_lexer": "ipython3",
   "version": "3.10.5"
  },
  "vscode": {
   "interpreter": {
    "hash": "4cde1c9ed8a683d36136dc08e8027575d08b07893b804429583e933d2fe93b0b"
   }
  }
 },
 "nbformat": 4,
 "nbformat_minor": 4
}