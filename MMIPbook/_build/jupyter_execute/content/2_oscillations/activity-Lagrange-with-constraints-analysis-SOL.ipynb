{
 "cells": [
  {
   "cell_type": "markdown",
   "metadata": {},
   "source": [
    "# Activity: Analyzing Lagrangian Dynamics with Constraints (Solution)\n",
    "\n",
    "One of the strengths of Lagrangian dynamics is that you do not have to have a mathematical description of the forces for all space and time. We can see that in this upside-down ice cream cone problem. How would you write the force of the cone for all space and time?\n",
    "\n",
    "*Answer:* :shrugs:\n",
    "\n",
    "![Rubric](../../assets/images/cylindrical_cone_mass.jpg)\n",
    "\n",
    "## Last time\n",
    "\n",
    "We used Lagrangian Analysis to produce the following differential equations:\n",
    "\n",
    "$$m\\ddot{r} = (mr^2\\dot{\\theta}-mg\\cot\\alpha)\\cos^2\\alpha$$\n",
    "\n",
    "$$\\dfrac{d}{dt}\\left(mr^2\\dot{\\theta}\\right) = 0$$\n",
    "\n",
    "We made a note that the second one tells about conservation of angular momentum in the $z$-direction.\n"
   ]
  },
  {
   "cell_type": "markdown",
   "metadata": {},
   "source": [
    "Let's write this a bit different, so we can integrate the situation:\n",
    "\n",
    "$$m\\ddot{r} = (mr^2\\dot{\\theta}-mg\\cot\\alpha)\\cos^2\\alpha$$\n",
    "\n",
    "$$2mr\\dot{r}\\dot{\\theta}+mr^2\\ddot{\\theta} = 0$$\n",
    "\n",
    "Now we need to write this as a set of first order differential equations. Let $v=\\dot{r}$ and $\\omega=\\dot{\\theta}$. Then we get the following four equations"
   ]
  },
  {
   "cell_type": "markdown",
   "metadata": {},
   "source": [
    "$$\\dot{v} = \\left(r^2\\omega-g\\cot\\alpha\\right)\\cos^2\\alpha$$\n",
    "\n",
    "$$\\dot{r} = v$$\n",
    "\n",
    "$$\\dot{\\omega} = -2\\dfrac{v\\omega}{r}$$\n",
    "\n",
    "$$\\dot{\\theta} = \\omega$$"
   ]
  },
  {
   "cell_type": "markdown",
   "metadata": {},
   "source": [
    "## Start your analysis\n",
    "\n",
    "Now we have four 1st order, coupled, nonlinear differential equations that describe the motion of this bead. We are going to solve for $r(t)$ and $\\theta(t)$ for a given choice of $\\alpha$. This will produce a solution for $z(t) = \\dfrac{r(t)}{\\tan\\alpha}$. We can investigate phase space, but you will have to look at slices of it and try to make sense of different projections. Let's start with the doing the following three tasks:\n",
    "\n",
    "We will construct phase space diagrams for $r$ and $\\theta$.\n",
    "\n",
    "1. You will have to use numpy.meshgrid for four variables. If you put in four variables, then you will get out ordered groups of the four variables.\n",
    "2. You need to define a function that returns the four changes of the four variables (remember we had to take the ordered pairs and then compute the arrows)\n",
    "3. Plot a 2d slice (e.g., $r$ vs $v$) "
   ]
  },
  {
   "cell_type": "code",
   "execution_count": 1,
   "metadata": {},
   "outputs": [],
   "source": [
    "## Your code here\n",
    "\n",
    "import numpy as np\n",
    "import matplotlib.pyplot as plt\n",
    "\n",
    "\n",
    "r = np.linspace(0.1,10,100)\n",
    "theta = np.linspace(0,2*np.pi,100)\n",
    "v = np.linspace(-10,10,100)\n",
    "omega = np.linspace(-10,10,100)"
   ]
  },
  {
   "cell_type": "code",
   "execution_count": 2,
   "metadata": {},
   "outputs": [],
   "source": [
    "R, THETA, V, OMEGA = np.meshgrid(r,theta,v,omega) \n",
    "\n",
    "def Deriv(R, V, THETA, OMEGA, alpha=np.pi/3):\n",
    "    \n",
    "    g=9.8\n",
    "\n",
    "    RDOT, VDOT, THETADOT, OMEGADOT = [V, (R**2*OMEGA-g/np.tan(alpha))*np.cos(alpha)**2, OMEGA, -2*V*OMEGA/R]\n",
    "    \n",
    "    return VDOT, RDOT, THETADOT, OMEGADOT\n",
    "\n",
    "\n",
    "def ComputeBeadPhase(R, V, THETA, OMEGA, alpha=np.pi/3):\n",
    "\n",
    "    \n",
    "    ## Prep the arrays with zeros at the right size\n",
    "    rdot, vdot, thetadot, omegadot = np.zeros(R.shape), np.zeros(V.shape), np.zeros(THETA.shape), np.zeros(OMEGA.shape)\n",
    "\n",
    "    ## Set the limits of the loop based on how \n",
    "    ## many points in the arrays we have\n",
    "    rlim = R.shape[0]\n",
    "    vlim = R.shape[1]\n",
    "    thetalim = R.shape[2]\n",
    "    omegalim = R.shape[3]\n",
    "    \n",
    "    ## Calculate the changes at each location and add them to the arrays\n",
    "    for i in range(rlim):\n",
    "        for j in range(vlim):\n",
    "            for k in range(thetalim):\n",
    "                for l in range(omegalim):\n",
    "                    rloc = R[i,j,k,l]\n",
    "                    vloc = V[i,j,k,l]\n",
    "                    thetaloc = THETA[i,j,k,l]\n",
    "                    omegaloc = OMEGA[i,j,k,l]\n",
    "                    rdot[i,j,k,l], vdot[i,j,k,l], thetadot[i,j,k,l], omegadot[i,j,k,l] = Deriv(rloc, vloc, thetaloc, omegaloc)\n",
    "            \n",
    "    return rdot, vdot, thetadot, omegadot"
   ]
  },
  {
   "cell_type": "code",
   "execution_count": 3,
   "metadata": {},
   "outputs": [
    {
     "ename": "IndexError",
     "evalue": "tuple index out of range",
     "output_type": "error",
     "traceback": [
      "\u001b[0;31m---------------------------------------------------------------------------\u001b[0m",
      "\u001b[0;31mIndexError\u001b[0m                                Traceback (most recent call last)",
      "Input \u001b[0;32mIn [3]\u001b[0m, in \u001b[0;36m<cell line: 1>\u001b[0;34m()\u001b[0m\n\u001b[0;32m----> 1\u001b[0m rdot, vdot, thetadot, omegadot \u001b[38;5;241m=\u001b[39m \u001b[43mComputeBeadPhase\u001b[49m\u001b[43m(\u001b[49m\u001b[43mr\u001b[49m\u001b[43m,\u001b[49m\u001b[43mv\u001b[49m\u001b[43m,\u001b[49m\u001b[43mtheta\u001b[49m\u001b[43m,\u001b[49m\u001b[43momega\u001b[49m\u001b[43m)\u001b[49m\n",
      "Input \u001b[0;32mIn [2]\u001b[0m, in \u001b[0;36mComputeBeadPhase\u001b[0;34m(R, V, THETA, OMEGA, alpha)\u001b[0m\n\u001b[1;32m     18\u001b[0m \u001b[38;5;66;03m## Set the limits of the loop based on how \u001b[39;00m\n\u001b[1;32m     19\u001b[0m \u001b[38;5;66;03m## many points in the arrays we have\u001b[39;00m\n\u001b[1;32m     20\u001b[0m rlim \u001b[38;5;241m=\u001b[39m R\u001b[38;5;241m.\u001b[39mshape[\u001b[38;5;241m0\u001b[39m]\n\u001b[0;32m---> 21\u001b[0m vlim \u001b[38;5;241m=\u001b[39m \u001b[43mR\u001b[49m\u001b[38;5;241;43m.\u001b[39;49m\u001b[43mshape\u001b[49m\u001b[43m[\u001b[49m\u001b[38;5;241;43m1\u001b[39;49m\u001b[43m]\u001b[49m\n\u001b[1;32m     22\u001b[0m thetalim \u001b[38;5;241m=\u001b[39m R\u001b[38;5;241m.\u001b[39mshape[\u001b[38;5;241m2\u001b[39m]\n\u001b[1;32m     23\u001b[0m omegalim \u001b[38;5;241m=\u001b[39m R\u001b[38;5;241m.\u001b[39mshape[\u001b[38;5;241m3\u001b[39m]\n",
      "\u001b[0;31mIndexError\u001b[0m: tuple index out of range"
     ]
    }
   ],
   "source": [
    "rdot, vdot, thetadot, omegadot = ComputeBeadPhase(r,v,theta,omega)"
   ]
  },
  {
   "cell_type": "markdown",
   "metadata": {},
   "source": [
    "## Numerically Integrate our EOM\n",
    "\n",
    "Ok, now that you have looked at the phase space as discuss possible motion that could occur. Let's pick some initial conditions and build a numerical model. \n",
    "\n",
    "Using the integrator of your choice, numerically integrate and plot (in 3d) the motion of the bead for the following conditions:\n",
    "\n",
    "1. Bead starts from rest and is let go\n",
    "2. Bead starts at a given height and is given a low speed (less than needed to orbit)\n",
    "3. Bead starts at a given height and is given a low speed (more than needed to orbit)\n",
    "4. Can you find a flat horizontal orbit?"
   ]
  },
  {
   "cell_type": "code",
   "execution_count": 24,
   "metadata": {},
   "outputs": [
    {
     "data": {
      "text/plain": [
       "100"
      ]
     },
     "execution_count": 24,
     "metadata": {},
     "output_type": "execute_result"
    }
   ],
   "source": [
    "R.shape[0]"
   ]
  },
  {
   "cell_type": "code",
   "execution_count": null,
   "metadata": {},
   "outputs": [],
   "source": []
  }
 ],
 "metadata": {
  "kernelspec": {
   "display_name": "Python 3.10.5 ('teaching')",
   "language": "python",
   "name": "python3"
  },
  "language_info": {
   "codemirror_mode": {
    "name": "ipython",
    "version": 3
   },
   "file_extension": ".py",
   "mimetype": "text/x-python",
   "name": "python",
   "nbconvert_exporter": "python",
   "pygments_lexer": "ipython3",
   "version": "3.10.5"
  },
  "vscode": {
   "interpreter": {
    "hash": "4cde1c9ed8a683d36136dc08e8027575d08b07893b804429583e933d2fe93b0b"
   }
  }
 },
 "nbformat": 4,
 "nbformat_minor": 2
}