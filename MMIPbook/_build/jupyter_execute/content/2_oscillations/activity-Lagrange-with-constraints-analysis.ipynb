{
 "cells": [
  {
   "cell_type": "markdown",
   "metadata": {},
   "source": [
    "# Activity: Analyzing Lagrangian Dynamics with Constraints\n",
    "\n",
    "One of the strengths of Lagrangian dynamics is that you do not have to have a mathematical description of the forces for all space and time. We can see that in this upside-down ice cream cone problem. How would you write the force of the cone for all space and time?\n",
    "\n",
    "*Answer:* :shrugs:\n",
    "\n",
    "![Rubric](../../assets/images/cylindrical_cone_mass.jpg)\n",
    "\n",
    "## Last time\n",
    "\n",
    "We used Lagrangian Analysis to produce the following differential equations:\n",
    "\n",
    "$$m\\ddot{r} = (mr^2\\dot{\\theta}-mg\\cot\\alpha)\\cos^2\\alpha$$\n",
    "\n",
    "$$\\dfrac{d}{dt}\\left(mr^2\\dot{\\theta}\\right) = 0$$\n",
    "\n",
    "We made a note that the second one tells about conservation of angular momentum in the $z$-direction.\n"
   ]
  },
  {
   "cell_type": "markdown",
   "metadata": {},
   "source": [
    "Let's write this a bit different, so we can integrate the situation:\n",
    "\n",
    "$$m\\ddot{r} = (mr^2\\dot{\\theta}-mg\\cot\\alpha)\\cos^2\\alpha$$\n",
    "\n",
    "$$2mr\\dot{r}\\dot{\\theta}+mr^2\\ddot{\\theta} = 0$$\n",
    "\n",
    "Now we need to write this as a set of first order differential equations. Let $v=\\dot{r}$ and $\\omega=\\dot{\\theta}$. Then we get the following four equations"
   ]
  },
  {
   "cell_type": "markdown",
   "metadata": {},
   "source": [
    "$$\\dot{r} = v$$\n",
    "\n",
    "$$\\dot{v} = \\left(r^2\\omega-g\\cot\\alpha\\right)\\cos^2\\alpha$$\n",
    "\n",
    "$$\\dot{\\theta} = \\omega$$\n",
    "\n",
    "$$\\dot{\\omega} = -2\\dfrac{v\\omega}{r}$$"
   ]
  },
  {
   "cell_type": "markdown",
   "metadata": {},
   "source": [
    "## Numerically Integrate our EOM\n",
    "\n",
    "Now we have four 1st order, coupled, nonlinear differential equations that describe the motion of this bead. We are going to solve for $r(t)$ and $\\theta(t)$ for a given choice of $\\alpha$. This will produce a solution for $z(t) = \\dfrac{r(t)}{\\tan\\alpha}$.  Let's pick some initial conditions and build a numerical model. \n",
    "\n",
    "Using the integrator of your choice, numerically integrate and plot (in 3d) the motion of the bead for the following conditions:\n",
    "\n",
    "1. Bead starts from rest and is let go\n",
    "2. Bead starts at a given height and is given a low speed (less than needed to orbit)\n",
    "3. Bead starts at a given height and is given a low speed (more than needed to orbit)\n",
    "4. Can you find a flat horizontal orbit?\n",
    "\n",
    "We have written the code below so that you could use odeint if you choose.\n",
    "\n",
    "The goals for this work is to:\n",
    "\n",
    "1. Integrate the equations of motion numerically.\n",
    "2. Plot the motion in various ways (2D slices and 3D space)\n",
    "\n",
    "We can then use those elements to extract some physics. "
   ]
  },
  {
   "cell_type": "code",
   "execution_count": 1,
   "metadata": {},
   "outputs": [],
   "source": [
    "import numpy as np\n",
    "import matplotlib.pyplot as plt\n",
    "from mpl_toolkits import mplot3d\n",
    "from scipy.integrate import odeint\n",
    "\n",
    "def BeadStuckOnCone(x, t, g=9.8, alpha=np.pi/3):\n",
    "    \n",
    "    r, v, theta, omega = x\n",
    "    dxdt = [v, (r**2*omega-g/np.tan(alpha))*np.cos(alpha)**2, omega, -2*v*omega/r]\n",
    "    return dxdt\n",
    "\n",
    "g = 9.8\n",
    "alpha = np.pi/3\n",
    "\n",
    "y0 = [10,0,0,0.0565]  \n",
    "t = np.linspace(0,100,1001)"
   ]
  },
  {
   "cell_type": "code",
   "execution_count": 2,
   "metadata": {},
   "outputs": [],
   "source": [
    "## your code here"
   ]
  }
 ],
 "metadata": {
  "kernelspec": {
   "display_name": "Python 3.10.5 ('teaching')",
   "language": "python",
   "name": "python3"
  },
  "language_info": {
   "codemirror_mode": {
    "name": "ipython",
    "version": 3
   },
   "file_extension": ".py",
   "mimetype": "text/x-python",
   "name": "python",
   "nbconvert_exporter": "python",
   "pygments_lexer": "ipython3",
   "version": "3.10.5"
  },
  "vscode": {
   "interpreter": {
    "hash": "4cde1c9ed8a683d36136dc08e8027575d08b07893b804429583e933d2fe93b0b"
   }
  }
 },
 "nbformat": 4,
 "nbformat_minor": 2
}