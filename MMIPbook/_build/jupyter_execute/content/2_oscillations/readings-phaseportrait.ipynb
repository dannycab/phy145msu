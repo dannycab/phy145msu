{
 "cells": [
  {
   "cell_type": "markdown",
   "metadata": {},
   "source": [
    "# The Simple Harmonic Oscillator\n"
   ]
  },
  {
   "cell_type": "markdown",
   "metadata": {},
   "source": [
    "## The SHO model\n",
    "\n",
    "From these observations we find that a reasonable force model for a 1D spring system is given by:\n",
    "\n",
    "$$F_{spring} = -k |x-x_0|$$\n",
    "\n",
    "where $k$ is the spring constant for the spring and $x_0$ is the equilibrium location. As we know from Newton's second law, if we can argue that this force is the only force or the dominant behavior we are trying to model in a mechanical situation, we have the following ordinary differential equation:\n",
    "\n",
    "$$F_{net} = F_{spring}$$\n",
    "$$m\\ddot{x} = -k|x-x_0|$$\n",
    "\n",
    "Without much loss, we can recast the problem in terms of the distance from equilbirium ($s=|x-x_0|$). *As you will learn this is not a problem from vertically hanging springs near the surface of the Earth because the graviational force is constant and depends on the mass of the hanging weight.*\n",
    "\n",
    "```{admonition} The SHO mathematical model\n",
    "$$m\\ddot{s} = -ks$$\n",
    "```\n",
    "\n",
    "### Finding the general solution\n",
    "\n",
    "We can solve this using our typical approach to 2D linear ODEs; guess the form of the solution and check it.\n",
    "\n",
    "$$\\ddot{s} = -\\frac{k}{m}s$$\n",
    "\n",
    "Assume: $s(t) = A\\exp(i\\omega t)$ As we will learn this form is a good guess for linear ODEs. This gives:\n",
    "\n",
    "$$\\ddot{s} = -\\omega^2\\;A\\exp(i\\omega t)$$\n",
    "\n",
    "So that,\n",
    "\n",
    "$$-\\omega^2\\;A\\exp(i\\omega t) = -\\frac{k}{m}A\\exp(i\\omega t)$$\n",
    "\n",
    "This solution is consistent with the model (i.e., solves the differential equation) if we set $\\omega$ and notice it is exclusively positive:\n",
    "\n",
    "$$\\omega^2 = \\frac{k}{m} > 0$$\n",
    "\n",
    "Thus, $s(t) = A\\exp(i\\sqrt{\\frac{k}{m}} t)$ is **a solution** to this problem. Notice we have to set $A$ using initial conditions for the problem. This is called a **initial value problem** in mathematics. You likely have heard about the Euler formulation; it is one of the most important relationships in mathematics {cite}`nahin2011dr, stipp2017most`. We will get into it more later. It appears below:\n",
    "\n",
    "```{admonition} Leonhard Euler's famous formula\n",
    "$$\\exp{i\\theta} = \\cos{\\theta} + i \\sin{\\theta}$$\n",
    "```\n",
    "\n",
    "\n",
    "Thus, we know that our solution gives rise to real sinusoidal solutions of the form:\n",
    "\n",
    "$$s(t) = A\\left(cos{\\sqrt{\\frac{k}{m}} t} + i\\sin{\\sqrt{\\frac{k}{m}} t}\\right)$$\n",
    "\n",
    "This probably doesn't look quite right...there's an $i$ in the solution for real physical motion! We will get to that, but we need the initial conditions to do so. More importantly, there's only one free parameter in our current solution, $A$. Given that this equation is **a solution, is it the only solution?**\n",
    "\n",
    "### The order of your differential equation matters\n",
    "\n",
    "You probably already know that our general solution for the SHO is:\n",
    "\n",
    "$$s(t) = A\\exp(i\\sqrt{\\frac{k}{m}} t) + B\\exp(-i\\sqrt{\\frac{k}{m}} t)$$\n",
    "\n",
    "Or written in a way that is more often presented:\n",
    "\n",
    "$$s(t) = A'\\cos(\\sqrt{\\frac{k}{m}} t) + B'\\sin(\\sqrt{\\frac{k}{m}} t)$$\n",
    "\n",
    "where we have made clear that the free parameters $A$ and $B$ are not equal to $A'$ and $B'$, respectively. Regardless, notice there's two free parameters in these formula. That is because we are solving a **two dimensional** linear ODE. Because there's two derivatives on $s$ (i.e., $\\ddot{s}$), we expect to have two free parameters that are set by the intial conditions. This is characteristic of an **initial value problem**.\n",
    "\n",
    "```{admonition} Important Tip\n",
    ":class: tip\n",
    "The number of free parameters that are set by problem conditions in an initial value problem is determined by the order of the differential equation. \n",
    "\n",
    "Second order? Two conditions needed. Two free parameters to determine. Fourth order? Four conditions needed. Four free parameters to determine.\n",
    "```"
   ]
  },
  {
   "cell_type": "code",
   "execution_count": null,
   "metadata": {},
   "outputs": [],
   "source": []
  },
  {
   "cell_type": "code",
   "execution_count": null,
   "metadata": {},
   "outputs": [],
   "source": []
  },
  {
   "cell_type": "code",
   "execution_count": null,
   "metadata": {},
   "outputs": [],
   "source": []
  },
  {
   "cell_type": "code",
   "execution_count": null,
   "metadata": {},
   "outputs": [],
   "source": []
  }
 ],
 "metadata": {
  "celltoolbar": "Edit Metadata",
  "kernelspec": {
   "display_name": "Python 3.10.5 ('teaching')",
   "language": "python",
   "name": "python3"
  },
  "language_info": {
   "codemirror_mode": {
    "name": "ipython",
    "version": 3
   },
   "file_extension": ".py",
   "mimetype": "text/x-python",
   "name": "python",
   "nbconvert_exporter": "python",
   "pygments_lexer": "ipython3",
   "version": "3.10.5"
  },
  "vscode": {
   "interpreter": {
    "hash": "4cde1c9ed8a683d36136dc08e8027575d08b07893b804429583e933d2fe93b0b"
   }
  }
 },
 "nbformat": 4,
 "nbformat_minor": 4
}