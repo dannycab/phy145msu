{
 "cells": [
  {
   "cell_type": "markdown",
   "id": "4119540d",
   "metadata": {},
   "source": [
    "# Overview of PHY 415\n",
    "\n",
    "Histroically, PHY 415 has focused on developing specialized analytical solutions to common physics problems and situations. However, the work of phyiscists involves a variety of tools the **model the behavior of physical systems**. Hence, this course will emphasize how we go about building mathematical models of physical phenomenon and how we can investigate them through a variety of lenses: analytical mathematics, graphics and visualization, as well as computational modeling using Python. By emphasizing the critical aspects of the modeling process, this course aims to develop your expertise in the process of doing physics rather than specific tools or techniques. That being said, you will also learn many differenty analytical and computaitonal tools to use for your own aims.\n",
    "\n",
    "## What you should expect\n",
    "\n",
    "In redesigning this course, I plan to emphasize more independent learning on your part and greater agency for you in determining what you learn and how you demonstrate you have learned. So you should expect:\n",
    "\n",
    "  * to read a variety of courses to coordinate information\n",
    "  * to present your ideas publicly and to discuss them\n",
    "  * to learn new approaches and novel techniques on your own\n",
    "  * to become more expert than me in the areas of your interest\n",
    "  * to learn more about scientists that you have not learned about\n",
    "\n",
    "This is not to say that you are on your own. Here's what you can expect from me:\n",
    "\n",
    "  * resources, information, and tools to help you learn\n",
    "  * support and scaffolding to move you towards more independence in your learning\n",
    "  * timely and detailed feedback to help you along\n",
    "  * a commitment to an inclusive classroom\n",
    "\n",
    "## Contact Information\n",
    "\n",
    "-   Instructor: [Prof. Danny Caballero](http://dannycab.github.io) (he/him/his)\n",
    "-   Class Meetings: Tuesdays and Thursdays 10:20am-12:10pm (Location: TBD)\n",
    "-   Email: [caball14@msu.edu](mailto:caball14@msu.edu), cell: (517) 420-5330, office:\n",
    "    1310-A BPS\n",
    "-   Office hrs: Open door policy. I enjoy visiting and talking with you about physics.\n",
    "-   Web page:\n",
    "    [dannycab.github.io/phy415msu/](http://dannycab.github.io/phy415msu/)\n",
    "\n",
    "### Slack Team\n",
    "\n",
    "*This term we will be using Slack for class discussion.* The system is highly catered to getting you help fast and efficiently from classmates and myself. Rather than emailing questions, I encourage you to post your questions on there. MORE SOON.\n",
    "\n",
    "\n",
    "\n",
    "## Grading\n",
    "Details about [course activities are here](design.md) and [information regarding asessment is here](assessments.md). How your grade is calculated appears below.\n",
    "\n",
    "**NOT READY YET**\n",
    "\n",
    "| Activity                              |            Date           | Percent of Grade |\n",
    "|---------------------------------------|:-------------------------:|-----------------:|\n",
    "| Homework (14 total; 1 dropped)        | Due Fri at start of class |              40% |\n",
    "| In-Class Quizzes  (7 total; 1 dropped)| Every other Friday        |              20% |\n",
    "| Individual Project                    | Fri Feb 28                 |              20% |\n",
    "| Pair Project                          | Tues Apr 28                |              20% |"
   ]
  }
 ],
 "metadata": {
  "jupytext": {
   "cell_metadata_filter": "-all",
   "formats": "md:myst",
   "text_representation": {
    "extension": ".md",
    "format_name": "myst",
    "format_version": 0.13,
    "jupytext_version": "1.11.5"
   }
  },
  "kernelspec": {
   "display_name": "Python 3",
   "language": "python",
   "name": "python3"
  },
  "language_info": {
   "codemirror_mode": {
    "name": "ipython",
    "version": 3
   },
   "file_extension": ".py",
   "mimetype": "text/x-python",
   "name": "python",
   "nbconvert_exporter": "python",
   "pygments_lexer": "ipython3",
   "version": "3.10.5"
  },
  "source_map": [
   14
  ]
 },
 "nbformat": 4,
 "nbformat_minor": 5
}