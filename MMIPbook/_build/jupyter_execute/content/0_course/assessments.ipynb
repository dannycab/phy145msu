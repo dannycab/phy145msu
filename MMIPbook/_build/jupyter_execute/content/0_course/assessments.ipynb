{
 "cells": [
  {
   "cell_type": "markdown",
   "id": "ebffc9a5",
   "metadata": {},
   "source": [
    "# Assessments\n",
    "\n",
    "## In-Class Quizzes\n",
    "\n",
    "Every other Friday, we will have a short, in-class quiz that covers the material discussed in the previous two weeks. The quiz will take the form of a typical exam-style question -- more straight-forward than your homework questions with not much substantive calculations. I will inform you of the type and topic of the in-class quiz on the Friday prior to the quiz, so you will have a week to prepare should you want. There will seven of these quizzes. *Your lowest quiz grade will be dropped.*\n",
    "\n",
    "## Projects\n",
    "\n",
    "In lieu of examinations, which are not at all representative of professional physics practice, you will produce two projects.\n",
    "\n",
    "### Individual Project\n",
    "\n",
    "The first project is an individual research project and is meant to mimic the kind of literature review that is needed to understand a topic that is new to you. In a nutshell, you will select a topic of active research in electromagnetism, read several journal articles pertaining to the topic, and write a 4-5 page summary with references about the topic. You will be working to answer the following questions in your paper:\n",
    "\n",
    "- What is the phenomenon and why is it interesting?\n",
    "- What the relevant electrodynamic models that are used to make sense of this phenomenon?\n",
    "- What are the assumptions that go into these models?\n",
    "- What mathematical models and mathematical tools are used to make predictions?\n",
    "- What are some of the major predictions?\n",
    "- What experimental work has gone into validating these predictions?\n",
    "- What the challenges in connecting the experimental and theoretical predictions?\n",
    "\n",
    "There will be seven homework questions that help you develop your individual project. *Having deadlines and milestones for such a project is important, so that you don't get behind.* Here's a *preliminary* listing of the homework questions that will appear (note these are subject to change!):\n",
    "\n",
    "- **Homework 1** (What is interesting?) - Define your phenomenon; what is it? Why is it interesting to you? What are a few papers that you can use to start your background research (give actual references). 2-3 paragraphs along with a listing of at least 4 relevant journal articles.\n",
    "- **Homework 2** (Towards an annotated bibliography I) - Summarize 2 of the 4 relevant journal articles. What do they say about your phenomenon? How are the theoretical models constructed? What are the predictions and implications? 2-3 paragraphs per article.\n",
    "- **Homework 3** (Towards an annotated bibliography II)- Summarize 2 more relevant journal articles (can be the remaining 2 or 2 new ones if the direction of your research has changed). What do they say about your phenomenon? How are the theoretical models constructed? What are the predictions and implications? 2-3 paragraphs per article.\n",
    "- **Homework 4** (Building your paper I) - Summarize your background research so far (3-4 paragraphs on what you have learned so far) with references. What are people saying about this phenomenon? What are the relevant models? How are the models described?\n",
    "- **Homework 5** (Building your paper II) - Summarize the models used to describe your phenomenon (3-4 more paragraphs on what you have learned so far) with references. What are the predictions of these models? What mathematical tools are used to make these predictions?\n",
    "- **Homework 6** (Building your paper III) - Summarize the experimental work that validates the theoretical predictions (3-4 more paragraphs on what you have learned so far). What are the difficulties or successes connecting theory and experiment?\n",
    "- **Homework 7** (Constructing an abstract) - Summarize your entire paper in a single paragraph - You are writing an abstract. It should be self-contained and describe the entire paper in just a few sentences.\n",
    "\n",
    "\n",
    "After Homework 7 (Fri. Feb. 28), your paper is due. It should be 4-5 pages long not counting figures, equations, and references! It should fully describe all the aspects of the phenomenon that are being modeled including how the phenomenon is modeled, what predictions/implications they are, how it is connected to experiments, and what limitations there are in the modeling of it. There should be about 6-10 references to articles appearing in your paper. You have been continually reading about the topic, right?\n",
    "\n",
    "### Grading the individual project\n",
    "\n",
    "A rubric for the individual project [appears here](./paperrubric.html). Notice that the rubric emphasizes several aspects of the paper with different weights. Each category will be scored on the following scale (4.0, 3.5, 3.0, 2.0, 0.0) and then averaged together using the weights for each category. Your final grade will be this averaged score converted to a 100 point scale.\n",
    "\n",
    "### Pair Project\n",
    "\n",
    "The second project can (but doesn't have to) build on this first project. It is a team project that you will complete with a partner. It is meant to mimic the common practice of poster preparation and presentation. In a nutshell, you will conduct an original modeling project where you analytically and computationally model some E&M phenomenon of your choosing, prepare a poster of the project, and present it to your classmates and me. In working on this project, you will be trying to answer the following questions:\n",
    "\n",
    "- What is the area of E&M that you are doing research on?\n",
    "- What are the questions that you are trying to answer about this area?\n",
    "- What theoretical models can be used to answer those questions?\n",
    "- What analytical and computational work did you do to answer those questions?\n",
    "- What were the resulting predictions that your work produced?\n",
    "- What are the limitations of what you have done? What are some remaining open questions?\n",
    "- What did each member of your pair contribute?\n",
    "\n",
    "There will be six homework questions (10 if you count the 4 self-reflection homework questions) to help your team develop your poster project, Here is a *preliminary* listing of the homework questions that will appear (note that these are subject to change!):\n",
    "\n",
    "- **Homework 8** - What are you and your partner proposing to do? What area of E&M will you be conducting original calculations for? What source material are you drawing from? What has been done so far and what are you going to do? It's ok if it's a solved problem, but you will need to reproduce what has been done and extend it beyond what your reference material offers.\n",
    "- **Homework 9** - What is the plan for the next 5 weeks? How do you intend to structure the work? Explain the details of what will be done and who will be doing what. I expect 2-3 paragraphs describing the work and a detailed timeline.\n",
    "- **Homework 10** - Provide a detailed explanation of the models and theoretical calculations needed to set up your work. This should be presented as a \"graphic\" that would appear in a poster under \"background or model.\" There will also be a self-reflection homework problem - Who did what? What questions do you need to answer to continue to move forward? What help do you need from me or others?\n",
    "- **Homework 11** - There should be some sample calculations and figures produced by your code. This can be a notebook (Mathematica; Jupyter; etc.), but the work needs to be explained inline (i.e., what are you doing and why?). This is the work that is the meat of your original contribution. It need not be complete yet. There will also be a self-reflection homework problem - Who did what? What questions were you able to answer last week? What questions do you need to answer to continue to move forward? What help do you need from me or others?\n",
    "- **Homework 12** - At this point, you should produce draft figures for poster with captions. You should have pressed onward with your calculations and produced appropriate figures for your poster with captions. The \"graphic\" and caption should be turned in. These need not be complete in the sense that you should continue working on your calculations and models until the poster is turned in. There will also be a self-reflection homework problem - Who did what? What questions were you able to answer last week? What questions do you need to answer to continue to move forward? What help do you need from me or others?\n",
    "- **Homework 13** - Finally, you should produce an abstract for your poster. You should have a self-contained paragraph on what you will present in your poster. There will also be a self-reflection homework problem - Who did what? What questions were you able to answer last week? What questions do you need to answer to continue to move forward? What help do you need from me or others?\n",
    "\n",
    "After Homework 13 (Tues. Apr 28 - during our final exam period), your poster is due. You and your teammate will present your poster to your classmates and myself. Your poster and presentation will be graded by me. But, you will also be given evaluation sheets for your classmates' posters, which I'll ask that you share with them (anonymously if you like). Your participation in the evaluation of your classmates' posters counts towards your grade on your poster. There will also be a self-reflection/evaluation component to this assignment that asks you: Who did what? What did you learn? What did you want to learn more about? What was straight-forward? What was more difficult? Completion of this self-reflection/evaluation will also count towards the overall grade on your poster.\n",
    "\n",
    "### Grading the pair project\n",
    "\n",
    "A rubric for the individual project [appears here](./posterrubric.html). Notice that the rubric emphasizes several aspects of the poster with different weights. Each category will be scored on the following scale (4.0, 3.5, 3.0, 2.0, 0.0) and then averaged together using the weights for each category. Your final grade will be this averaged score converted to a 100 point scale."
   ]
  }
 ],
 "metadata": {
  "jupytext": {
   "cell_metadata_filter": "-all",
   "formats": "md:myst",
   "text_representation": {
    "extension": ".md",
    "format_name": "myst",
    "format_version": 0.13,
    "jupytext_version": "1.11.5"
   }
  },
  "kernelspec": {
   "display_name": "Python 3",
   "language": "python",
   "name": "python3"
  },
  "language_info": {
   "codemirror_mode": {
    "name": "ipython",
    "version": 3
   },
   "file_extension": ".py",
   "mimetype": "text/x-python",
   "name": "python",
   "nbconvert_exporter": "python",
   "pygments_lexer": "ipython3",
   "version": "3.10.2"
  },
  "source_map": [
   14
  ]
 },
 "nbformat": 4,
 "nbformat_minor": 5
}