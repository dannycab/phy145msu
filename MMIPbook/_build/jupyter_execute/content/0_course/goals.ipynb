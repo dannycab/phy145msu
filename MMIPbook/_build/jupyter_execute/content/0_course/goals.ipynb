{
 "cells": [
  {
   "cell_type": "markdown",
   "id": "258cb39c",
   "metadata": {},
   "source": [
    "# Course Goals\n",
    "\n",
    "This course emphasizes making models of physical phenomenon and how we use various tools at our disposal to investigate those models. Hence, we have goals for making models of these systems and for learning specific tools."
   ]
  }
 ],
 "metadata": {
  "jupytext": {
   "cell_metadata_filter": "-all",
   "formats": "md:myst",
   "text_representation": {
    "extension": ".md",
    "format_name": "myst",
    "format_version": 0.13,
    "jupytext_version": "1.11.5"
   }
  },
  "kernelspec": {
   "display_name": "Python 3",
   "language": "python",
   "name": "python3"
  },
  "language_info": {
   "codemirror_mode": {
    "name": "ipython",
    "version": 3
   },
   "file_extension": ".py",
   "mimetype": "text/x-python",
   "name": "python",
   "nbconvert_exporter": "python",
   "pygments_lexer": "ipython3",
   "version": "3.10.2"
  },
  "source_map": [
   14
  ]
 },
 "nbformat": 4,
 "nbformat_minor": 5
}