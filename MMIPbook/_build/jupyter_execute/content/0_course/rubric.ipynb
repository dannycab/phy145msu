{
 "cells": [
  {
   "cell_type": "markdown",
   "id": "00d21f8d",
   "metadata": {},
   "source": [
    "# Project Rubrics\n",
    "\n",
    "## Preliminary (For first out of class project)\n",
    "\n",
    "Our rubric will initially focus on the [core learning goals](goals.md). As we develop expertise in these areas, we might decide to change emphases or focus.\n",
    "\n",
    "| Goal                                                      | Fractional Importance |\n",
    "|-----------------------------------------------------------|----------------------:|\n",
    "| Investigate physical systems                              |          0.30         |\n",
    "| Construct and document a reproducible process             |          0.10         |\n",
    "| Use analytical, computational, and graphical approaches   |          0.30         |\n",
    "| Provide evidence of the quality of their work             |          0.10         |\n",
    "| Collaborate effectively                                   |          0.20         |\n",
    "\n",
    "I will develop specific rubric elements based on your engagement with the in-class materials on the first couple of class periods. I need to observe where we need the most support initially and that will change the rubric expectations."
   ]
  }
 ],
 "metadata": {
  "jupytext": {
   "cell_metadata_filter": "-all",
   "formats": "md:myst",
   "text_representation": {
    "extension": ".md",
    "format_name": "myst",
    "format_version": 0.13,
    "jupytext_version": "1.11.5"
   }
  },
  "kernelspec": {
   "display_name": "Python 3",
   "language": "python",
   "name": "python3"
  },
  "language_info": {
   "codemirror_mode": {
    "name": "ipython",
    "version": 3
   },
   "file_extension": ".py",
   "mimetype": "text/x-python",
   "name": "python",
   "nbconvert_exporter": "python",
   "pygments_lexer": "ipython3",
   "version": "3.10.5"
  },
  "source_map": [
   14
  ]
 },
 "nbformat": 4,
 "nbformat_minor": 5
}