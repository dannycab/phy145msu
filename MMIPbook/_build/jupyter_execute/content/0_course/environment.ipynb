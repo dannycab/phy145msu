{
 "cells": [
  {
   "cell_type": "markdown",
   "id": "17a505ba",
   "metadata": {},
   "source": [
    "# Classroom Environment\n",
    "\n",
    "## Commitment to an Inclusive Classroom\n",
    "\n",
    "I am committed to creating an inclusive classroom - one where you and your classmates\n",
    "feel comfortable, intellectually challenged, and able to speak up about your ideas\n",
    "and experiences. This means that our classroom, our virtual environments, and our interactions\n",
    "need to be as inclusive as possible. Mutual respect, civility, and the ability to listen\n",
    "and observe others are central to creating a classroom that is inclusive. I will strive to\n",
    "do this and I ask that you do the same. If I can do anything to make the classroom a better\n",
    "learning environment for you, please let me know.\n",
    "\n",
    "**If you observe or experience behaviors that violate our commitment to inclusivity,\n",
    "please let me know as soon as possible.**\n",
    "\n",
    "If I violate this principle, please let me know\n",
    "or please tell the undergraduate department chair,\n",
    "Stuart Tessmer ([tessmer@pa.msu.edu](mailto:tessmer@pa.msu.edu)), who I have informed to tell me about any such incidents\n",
    "without conveying student information to me.\n",
    "\n",
    "## Comments on preparation:\n",
    "\n",
    "Physics 482 covers material you might have seen before (Many of the topics\n",
    "stem from PHY 184/294H material) but at a higher level of conceptual and\n",
    "mathematical sophistication.\n",
    "\n",
    "Therefore you should expect:\n",
    "\n",
    "-   a large amount of material covered quickly.\n",
    "-   no recitations, and few examples covered in lecture. Most homework\n",
    "    problems are not similar to examples from class.\n",
    "-   long, hard homework problems that usually cannot be completed by one\n",
    "    individual alone.\n",
    "-   challenging projects.\n",
    "\n",
    "Physics 482 is a challenging, upper‐division physics course. Unlike more\n",
    "introductory courses, you are fully responsible for your own learning.\n",
    "In particular, you control the pace of the course by asking questions in\n",
    "class. I tend to speak quickly, and questions are important to slow down\n",
    "the lecture. This means that if you don't understand something, it is\n",
    "your responsibility to ask questions. Attending class and the homework\n",
    "help sessions gives you an opportunity to ask questions. I am here to\n",
    "help you as much as possible, but I need your questions to know what you\n",
    "don't understand.\n",
    "\n",
    "Physics 482 covers some of the most important physics and mathematical\n",
    "methods in the field. Your reward for the hard work and effort will be\n",
    "learning important and elegant material that you will use over and over\n",
    "as a physics major. Here is what I have experienced, and heard from\n",
    "other faculty teaching upper division physics in the past:\n",
    "\n",
    "- most students reported spending a minimum of 10 hours per week on the\n",
    "homework (!!)\n",
    "- students who didn't attend the homework help sessions\n",
    "often did poorly in the class.\n",
    "- students reported learning a tremendous amount in this class.\n",
    "\n",
    "**The course topics that we will cover in Physics 482 are among the\n",
    "greatest intellectual achievements of humans. Don't be surprised if you\n",
    "have to think hard and work hard to master the material.**"
   ]
  }
 ],
 "metadata": {
  "jupytext": {
   "cell_metadata_filter": "-all",
   "formats": "md:myst",
   "text_representation": {
    "extension": ".md",
    "format_name": "myst",
    "format_version": 0.13,
    "jupytext_version": "1.11.5"
   }
  },
  "kernelspec": {
   "display_name": "Python 3",
   "language": "python",
   "name": "python3"
  },
  "language_info": {
   "codemirror_mode": {
    "name": "ipython",
    "version": 3
   },
   "file_extension": ".py",
   "mimetype": "text/x-python",
   "name": "python",
   "nbconvert_exporter": "python",
   "pygments_lexer": "ipython3",
   "version": "3.10.2"
  },
  "source_map": [
   14
  ]
 },
 "nbformat": 4,
 "nbformat_minor": 5
}