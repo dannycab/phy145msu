{
 "cells": [
  {
   "cell_type": "markdown",
   "id": "bcee3223",
   "metadata": {},
   "source": [
    "# Welcome to Mathematical Modeling in Physics\n",
    "\n",
    "PHY 415, called, \"Mathematical Methods for Physicists\" is a course the brings together many of the mathematical approaches that we commonly use in physics and apply them to variety of problems. In this course, we will take a modeling-based approach where we focus on the mathematical descriptions of physical phenomenon and determine what mathematical and analytical approaches are useful in exploring those models.\n",
    "\n",
    "To get a sense of the course, please read all the pages associated with our syllabus.\n",
    "\n",
    "## Learning Objectives\n",
    "\n",
    "In this course, you will learn to:\n",
    "\n",
    "* investigate physical systems using a variety of tools and approaches,\n",
    "* construct and document a reproducible process for those investigations,\n",
    "* use analytical, computational, and graphical approaches to answer specific questions in those investigations,\n",
    "* provide evidence of the quality of work using a variety of sources, and\n",
    "* collaborate effectively and contribute to a inclusive learning environment\n",
    "\n",
    "## Table of Contents\n",
    "\n",
    "The rest of this JupyterBook is (currently) organized as follows:\n",
    "\n",
    "```{tableofcontents}\n",
    "```"
   ]
  }
 ],
 "metadata": {
  "jupytext": {
   "cell_metadata_filter": "-all",
   "formats": "md:myst",
   "text_representation": {
    "extension": ".md",
    "format_name": "myst",
    "format_version": 0.13,
    "jupytext_version": "1.11.5"
   }
  },
  "kernelspec": {
   "display_name": "Python 3",
   "language": "python",
   "name": "python3"
  },
  "language_info": {
   "codemirror_mode": {
    "name": "ipython",
    "version": 3
   },
   "file_extension": ".py",
   "mimetype": "text/x-python",
   "name": "python",
   "nbconvert_exporter": "python",
   "pygments_lexer": "ipython3",
   "version": "3.10.5"
  },
  "source_map": [
   14
  ]
 },
 "nbformat": 4,
 "nbformat_minor": 5
}