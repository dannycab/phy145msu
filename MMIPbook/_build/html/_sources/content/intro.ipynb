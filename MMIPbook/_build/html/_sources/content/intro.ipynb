{
 "cells": [
  {
   "cell_type": "markdown",
   "id": "6e65f53f",
   "metadata": {},
   "source": [
    "# Welcome to Mathematical Modeling in Physics - Under Construction\n",
    "\n",
    "<!-- ![assets/tc_big.jpg](../assets/images/tc_big.jpg) -->\n",
    "<iframe src=\"https://giphy.com/embed/ZTans30ONaaIM\" width=\"480\" height=\"299\" frameBorder=\"0\" class=\"giphy-embed\" allowFullScreen></iframe><p><a href=\"https://giphy.com/gifs/ZTans30ONaaIM\">via GIPHY</a></p>\n",
    "\n",
    "\n",
    "In this course, you will learn to:\n",
    "\n",
    "* Develop models and stuff\n",
    "* Collaborate\n",
    "\n",
    "\n",
    "\n",
    "The rest of this JupyterBook is (currently) organized as follows:\n",
    "\n",
    "```{tableofcontents}\n",
    "```"
   ]
  }
 ],
 "metadata": {
  "jupytext": {
   "cell_metadata_filter": "-all",
   "formats": "md:myst",
   "text_representation": {
    "extension": ".md",
    "format_name": "myst",
    "format_version": 0.13,
    "jupytext_version": "1.11.5"
   }
  },
  "kernelspec": {
   "display_name": "Python 3",
   "language": "python",
   "name": "python3"
  },
  "language_info": {
   "codemirror_mode": {
    "name": "ipython",
    "version": 3
   },
   "file_extension": ".py",
   "mimetype": "text/x-python",
   "name": "python",
   "nbconvert_exporter": "python",
   "pygments_lexer": "ipython3",
   "version": "3.10.5"
  },
  "source_map": [
   14
  ]
 },
 "nbformat": 4,
 "nbformat_minor": 5
}