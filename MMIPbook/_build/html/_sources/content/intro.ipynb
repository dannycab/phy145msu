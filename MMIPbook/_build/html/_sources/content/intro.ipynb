{
 "cells": [
  {
   "cell_type": "markdown",
   "metadata": {},
   "source": []
  },
  {
   "cell_type": "markdown",
   "metadata": {},
   "source": [
    "# Welcome to Mathematical Modeling in Physics\n",
    "\n",
    "PHY 415, called, \"Mathematical Methods for Physicists\" is a course the brings together many of the mathematical approaches that we commonly use in physics and apply them to variety of problems. In this course, we will take a modeling-based approach where we focus on the mathematical descriptions of physical phenomenon and determine what mathematical and analytical approaches are useful in exploring those models.\n",
    "\n"
   ]
  },
  {
   "cell_type": "markdown",
   "metadata": {},
   "source": [
    "`````{admonition} Updates\n",
    ":class: tip\n",
    "\n",
    "**27 Nov 2022**\n",
    "\n",
    "* Hope y'all had a great break!\n",
    "* notes from Tuesday's class before break are posted:\n",
    "    * [Introduction to Stat. Mech.](https://github.com/dannycab/phy415msu/blob/main/MMIPbook/assets/pdfs/notes/Notes_4_Intro_to_Stat_Mech.pdf)\n",
    "    * [The Ideal Gas](https://github.com/dannycab/phy415msu/blob/main/MMIPbook/assets/pdfs/notes/Notes_4_Ideal_Gas_Model.pdf)\n",
    "* We are going to work with Markov Chain Monte Carlo for the rest of the semester. There's a little discussion of it here with a conceptual video. [MCMC Reading](./4_randomness/readings_mcmc.ipynb)\n",
    "\n",
    "**22 Nov 2022**\n",
    "\n",
    "* [Project 5](./0_course/projects/project5.md) is posted. It allows you to define your project including expanding on or redoing an old project.\n",
    "\n",
    "[ARCHIVE](./0_course/news_archive.md)\n",
    "\n",
    "`````"
   ]
  },
  {
   "cell_type": "markdown",
   "metadata": {},
   "source": [
    "To get a sense of the course, please read all the pages associated with our syllabus.\n",
    "\n",
    "## Learning Objectives\n",
    "\n",
    "In this course, you will learn to:\n",
    "\n",
    "* investigate physical systems using a variety of tools and approaches,\n",
    "* construct and document a reproducible process for those investigations,\n",
    "* use analytical, computational, and graphical approaches to answer specific questions in those investigations,\n",
    "* provide evidence of the quality of work using a variety of sources, and\n",
    "* collaborate effectively and contribute to a inclusive learning environment"
   ]
  }
 ],
 "metadata": {
  "kernelspec": {
   "display_name": "Python 3.10.5 ('teaching')",
   "language": "python",
   "name": "python3"
  },
  "language_info": {
   "codemirror_mode": {
    "name": "ipython",
    "version": 3
   },
   "file_extension": ".py",
   "mimetype": "text/x-python",
   "name": "python",
   "nbconvert_exporter": "python",
   "pygments_lexer": "ipython3",
   "version": "3.10.5"
  },
  "orig_nbformat": 4,
  "vscode": {
   "interpreter": {
    "hash": "4cde1c9ed8a683d36136dc08e8027575d08b07893b804429583e933d2fe93b0b"
   }
  }
 },
 "nbformat": 4,
 "nbformat_minor": 2
}
