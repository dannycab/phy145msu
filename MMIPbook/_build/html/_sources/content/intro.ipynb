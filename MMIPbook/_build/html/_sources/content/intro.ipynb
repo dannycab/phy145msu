{
 "cells": [
  {
   "cell_type": "markdown",
   "id": "3eee792f",
   "metadata": {},
   "source": [
    "# Welcome to Mathematical Modeling in Physics\n",
    "\n",
    "## Under Construction\n",
    "\n",
    "<!-- ![assets/tc_big.jpg](../assets/images/tc_big.jpg) -->\n",
    "<iframe src=\"https://giphy.com/embed/ZTans30ONaaIM\" width=\"480\" height=\"299\" frameBorder=\"0\" class=\"giphy-embed\" allowFullScreen></iframe><p><a href=\"https://giphy.com/gifs/ZTans30ONaaIM\">via GIPHY</a></p>\n",
    "\n",
    "\n",
    "# Overview of PHY 415\n",
    "\n",
    "Historically, PHY 415 has focused on developing specialized analytical solutions to common physics problems and situations. However, the work of physicists involves a variety of tools that we use to **model the behavior of physical systems**. Hence, this course will emphasize how we go about building mathematical models of physical phenomenon and how we can investigate them through a variety of lenses: analytical mathematics, graphics and visualization, as well as computational modeling using Python. By emphasizing the critical aspects of the modeling process, this course aims to develop your expertise in the process of doing theoretical physics rather than specific tools or techniques. That being said, you will also learn many differently analytical and computational tools to use for your own aims.\n",
    "\n",
    "## Learning Objectives\n",
    "\n",
    "In this course, you will learn to:\n",
    "\n",
    "* investigate physical systems using a variety of tools and approaches,\n",
    "* construct and document a reproducible process for those investigations,\n",
    "* use analytical, computational, and graphical approaches to answer specific questions in those investigations,\n",
    "* provide evidence of the quality of work using a variety of sources, and\n",
    "* collaborate effectively and contribute to a inclusive learning environment\n",
    "\n",
    "## Table of Contents\n",
    "\n",
    "The rest of this JupyterBook is (currently) organized as follows:\n",
    "\n",
    "```{tableofcontents}\n",
    "```"
   ]
  }
 ],
 "metadata": {
  "jupytext": {
   "cell_metadata_filter": "-all",
   "formats": "md:myst",
   "text_representation": {
    "extension": ".md",
    "format_name": "myst",
    "format_version": 0.13,
    "jupytext_version": "1.11.5"
   }
  },
  "kernelspec": {
   "display_name": "Python 3",
   "language": "python",
   "name": "python3"
  },
  "language_info": {
   "codemirror_mode": {
    "name": "ipython",
    "version": 3
   },
   "file_extension": ".py",
   "mimetype": "text/x-python",
   "name": "python",
   "nbconvert_exporter": "python",
   "pygments_lexer": "ipython3",
   "version": "3.10.5"
  },
  "source_map": [
   14
  ]
 },
 "nbformat": 4,
 "nbformat_minor": 5
}