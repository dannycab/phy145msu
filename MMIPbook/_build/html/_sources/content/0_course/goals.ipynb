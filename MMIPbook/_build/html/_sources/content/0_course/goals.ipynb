{
 "cells": [
  {
   "cell_type": "markdown",
   "id": "7250ea6d",
   "metadata": {},
   "source": [
    "# Course Objectives\n",
    "\n",
    "This course emphasizes making models of physical phenomenon and how we use various tools at our disposal to investigate those models. Hence, we have learning objectives for making models of these systems and for learning specific tools.\n",
    "\n",
    "```{admonition} Principle Learning Objectives\n",
    ":class: tip\n",
    "Students will demonstrate they can:\n",
    " - investigate physical systems of their choosing using a variety of tools and approaches\n",
    " - construct and document a reproducible process for those investigations\n",
    " - use analytical, computational, and graphical approaches to answer specific questions in those investigations\n",
    " - provide evidence of the quality of their work using a variety of sources\n",
    " - collaborate effectively and contribute to a inclusive learning environment\n",
    "```\n",
    "\n",
    "Each of these learning objectives contributes to your development as a physicist. I recognize that these are **big** ideas to think about. What I mean is that the objectives above are quite broad and you might be able to see a little about what or why they are included. But, below, I added more detail about each one along with a smaller scale list of objectives that you will engage with. Throughout our course, you will have opprtunties to demonstrate these objectives in your work. My aim is to make what you are assessed on in this course something you are interested in, so these objectives reflect that.\n",
    "\n",
    "## Investigate physical systems\n",
    "\n",
    "Clearly, the principal goal we are concerned with in this course learning how to make models of physical systems. This means learning about and developing fluency with a wide variety of mathematical and computational tools. In this courses, we will make extensive use of [Jupyter notebooks](http://anaconda.org) for homework and projects. In fact, what you are reading is a set of Jupyter notebooks! Below, you will see the list of objectives for this principal objective.\n",
    "\n",
    "Students will demonstrate they can:\n",
    " - use mathematical techniques to predict or explain some physical phenomenon\n",
    "   - solve ordinary differential equations\n",
    "\n",
    "\n",
    "## Construct and document a reproducible process\n",
    "## Use analytical, computational, and graphical approaches\n",
    "## Provide evidence of the quality of their work\n",
    "## Collaborate effectively"
   ]
  }
 ],
 "metadata": {
  "jupytext": {
   "cell_metadata_filter": "-all",
   "formats": "md:myst",
   "text_representation": {
    "extension": ".md",
    "format_name": "myst",
    "format_version": 0.13,
    "jupytext_version": "1.11.5"
   }
  },
  "kernelspec": {
   "display_name": "Python 3",
   "language": "python",
   "name": "python3"
  },
  "language_info": {
   "codemirror_mode": {
    "name": "ipython",
    "version": 3
   },
   "file_extension": ".py",
   "mimetype": "text/x-python",
   "name": "python",
   "nbconvert_exporter": "python",
   "pygments_lexer": "ipython3",
   "version": "3.10.5"
  },
  "source_map": [
   14
  ]
 },
 "nbformat": 4,
 "nbformat_minor": 5
}