{
 "cells": [
  {
   "attachments": {},
   "cell_type": "markdown",
   "metadata": {},
   "source": [
    "# 8 Dec 2022 - The Ising Model\n",
    "\n",
    "$$E = -J\\left(\\vec{S}_i\\cdot\\vec{S}_j\\right)$$"
   ]
  },
  {
   "cell_type": "code",
   "execution_count": 1,
   "metadata": {},
   "outputs": [],
   "source": [
    "import numpy as np\n",
    "import matplotlib.pyplot as plt\n",
    "import random as random"
   ]
  },
  {
   "cell_type": "code",
   "execution_count": 2,
   "metadata": {},
   "outputs": [],
   "source": [
    "cellLength = 20\n",
    "simulationSteps = 100000\n",
    "couplingConstant = 1.0 ## J\n",
    "temperature = 2.0\n",
    "\n",
    "def calculateEnergy(spinArray):\n",
    "    '''Calculate all the pairwise energy interactions and sum them up\n",
    "    Do rows and columns separately and add them up.'''\n",
    "    \n",
    "    rowNeighborInteractionEnergy = np.sum(spinArray[0:cellLength-1,:]*spinArray[1:cellLength,:])\n",
    "    columnNeighborInteractionEnergy = np.sum(spinArray[:,0:cellLength-1]*spinArray[:,1:cellLength])\n",
    "    \n",
    "    totalInteractionEnergy = rowNeighborInteractionEnergy+columnNeighborInteractionEnergy\n",
    "    \n",
    "    return -couplingConstant*totalInteractionEnergyamek\n",
    "\n",
    "## Create an empty square array\n",
    "spinArray = np.empty([cellLength,cellLength], int)\n",
    "\n",
    "## Populate it with random spins\n",
    "for row in range(cellLength):\n",
    "    for column in range(cellLength):\n",
    "        if random.random()<0.5:\n",
    "            spinArray[row,column] = +1\n",
    "        else:\n",
    "            spinArray[row,column] = -1\n",
    "\n",
    "# Calculate the initial energy and magnetization        \n",
    "energyAtStep = calculateEnergy(spinArray)\n",
    "magnetizationAtStep = np.sum(spinArray)\n",
    "\n",
    "## Show the spin array \n",
    "## Black is spin up and white is spin down\n",
    "plt.figure(figsize=(8,8))\n",
    "c = plt.pcolor(spinArray, cmap='Greys')\n",
    "plt.axis('square')"
   ]
  },
  {
   "cell_type": "code",
   "execution_count": 31,
   "metadata": {},
   "outputs": [],
   "source": [
    "## Hold onto the values of the magnetization \n",
    "## for each step in the simulation\n",
    "magnetizationArray = np.zeros(simulationSteps)\n",
    "\n",
    "## Monte Carlo Loop\n",
    "for step in range(simulationSteps):\n",
    "    \n",
    "    ## Store the magnetization at this step\n",
    "    \n",
    "    ## Store the energy before swapping the spin randomly\n",
    "    \n",
    "    ## Select a spin from the cell\n",
    "    \n",
    "    ## Flip the spin of that one site\n",
    "    \n",
    "    ## Calculate the energy after that change\n",
    "    ## Calculate the change in energy \n",
    "    \n",
    "    \n",
    "    ## If the change resulted in an increase in the total energy,\n",
    "    ## evaluate whether to accept the value or not\n",
    "    if deltaE > 0.0:\n",
    "        \n",
    "        probabilityOfFlip = np.exp(-deltaE/temperature)\n",
    "        \n",
    "        ## If the the random value is lower than the probability,\n",
    "        ## reverse the change to the spin, and recalculate the energy\n",
    "        if random.random()>probabilityOfFlip:\n",
    "            \n",
    "            continue\n",
    "        \n",
    "    ## Sum up the magnetization at that step    \n",
    "    "
   ]
  },
  {
   "cell_type": "code",
   "execution_count": null,
   "metadata": {},
   "outputs": [],
   "source": []
  }
 ],
 "metadata": {
  "kernelspec": {
   "display_name": "Python 3.10.5 ('teaching')",
   "language": "python",
   "name": "python3"
  },
  "language_info": {
   "codemirror_mode": {
    "name": "ipython",
    "version": 3
   },
   "file_extension": ".py",
   "mimetype": "text/x-python",
   "name": "python",
   "nbconvert_exporter": "python",
   "pygments_lexer": "ipython3",
   "version": "3.10.5"
  },
  "orig_nbformat": 4,
  "vscode": {
   "interpreter": {
    "hash": "4cde1c9ed8a683d36136dc08e8027575d08b07893b804429583e933d2fe93b0b"
   }
  }
 },
 "nbformat": 4,
 "nbformat_minor": 2
}
